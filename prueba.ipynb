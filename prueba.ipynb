{
 "cells": [
  {
   "cell_type": "code",
   "execution_count": 11,
   "metadata": {},
   "outputs": [],
   "source": [
    "from customEnv import *\n",
    "from stable_baselines.common.env_checker import check_env"
   ]
  },
  {
   "cell_type": "code",
   "execution_count": 12,
   "metadata": {},
   "outputs": [],
   "source": [
    "env = PongGame()\n",
    "check_env(env, warn=True)\n"
   ]
  },
  {
   "cell_type": "code",
   "execution_count": 13,
   "metadata": {},
   "outputs": [
    {
     "name": "stdout",
     "output_type": "stream",
     "text": [
      "Box([0. 0. 0.], [340. 390. 390.], (3,), float32)\n",
      "Discrete(3)\n",
      "1\n",
      "Step 1\n",
      "obs= [169.2     196.      217.46666] reward= 0 done= False\n",
      "Step 2\n",
      "obs= [168.4     197.      218.26666] reward= 0 done= False\n",
      "Step 3\n",
      "obs= [169.2     198.      219.06667] reward= 0 done= False\n",
      "Step 4\n",
      "obs= [170.      199.      219.86667] reward= 0 done= False\n",
      "Step 5\n",
      "obs= [169.2     200.      220.66667] reward= 0 done= False\n",
      "Step 6\n",
      "obs= [169.2     201.      221.46666] reward= 0 done= False\n",
      "Step 7\n",
      "obs= [169.2     202.      222.26666] reward= 0 done= False\n",
      "Step 8\n",
      "obs= [169.2     203.      223.06667] reward= 0 done= False\n",
      "Step 9\n",
      "obs= [170.      204.      223.86667] reward= 0 done= False\n",
      "Step 10\n",
      "obs= [170.8     205.      224.66667] reward= 0 done= False\n",
      "Step 11\n",
      "obs= [171.6     206.      225.46666] reward= 0 done= False\n",
      "Step 12\n",
      "obs= [172.4     207.      226.26666] reward= 0 done= False\n",
      "Step 13\n",
      "obs= [173.2     208.      227.06667] reward= 0 done= False\n",
      "Step 14\n",
      "obs= [174.      209.      227.86667] reward= 0 done= False\n",
      "Step 15\n",
      "obs= [174.      210.      228.66667] reward= 0 done= False\n",
      "Step 16\n",
      "obs= [174.      211.      229.46666] reward= 0 done= False\n",
      "Step 17\n",
      "obs= [174.      212.      230.26666] reward= 0 done= False\n",
      "Step 18\n",
      "obs= [173.2     213.      231.06667] reward= 0 done= False\n",
      "Step 19\n",
      "obs= [173.2     214.      231.86667] reward= 0 done= False\n",
      "Step 20\n",
      "obs= [172.4     215.      232.66667] reward= 0 done= False\n"
     ]
    }
   ],
   "source": [
    "obs = env.reset()\n",
    "env.render()\n",
    "\n",
    "print(env.observation_space)\n",
    "print(env.action_space)\n",
    "print(env.action_space.sample())\n",
    "\n",
    "n_steps = 20\n",
    "for step in range(n_steps):\n",
    "  print(\"Step {}\".format(step + 1))\n",
    "  action = env.action_space.sample()\n",
    "  obs, reward, done, info = env.step(action)\n",
    "  print('obs=', obs, 'reward=', reward, 'done=', done)\n",
    "  if done:\n",
    "    print(\"Prove ended sucesfully!\", \"reward=\", reward)\n",
    "    break"
   ]
  },
  {
   "cell_type": "code",
   "execution_count": null,
   "metadata": {},
   "outputs": [],
   "source": []
  }
 ],
 "metadata": {
  "interpreter": {
   "hash": "5b3ded1ccb95c1d9bd405e7b823d9e85424cde40fbb5985eb47e999ef50e15b4"
  },
  "kernelspec": {
   "display_name": "Python 3.8.10 64-bit",
   "language": "python",
   "name": "python3"
  },
  "language_info": {
   "codemirror_mode": {
    "name": "ipython",
    "version": 3
   },
   "file_extension": ".py",
   "mimetype": "text/x-python",
   "name": "python",
   "nbconvert_exporter": "python",
   "pygments_lexer": "ipython3",
   "version": "3.8.10"
  },
  "orig_nbformat": 4
 },
 "nbformat": 4,
 "nbformat_minor": 2
}
