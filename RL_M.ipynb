{
 "cells": [
  {
   "cell_type": "code",
   "execution_count": 8,
   "metadata": {},
   "outputs": [],
   "source": [
    "import os\n",
    "from PongGame_Env import *\n",
    "import numpy as np\n",
    "from tensorflow.keras.models import Sequential\n",
    "from tensorflow.keras.layers import Dense, Flatten, Activation\n",
    "from tensorflow.keras.optimizers import Adam\n",
    "from rl.memory import EpisodeParameterMemory\n",
    "from rl.agents import CEMAgent"
   ]
  },
  {
   "cell_type": "code",
   "execution_count": 2,
   "metadata": {},
   "outputs": [],
   "source": [
    "log_path = 'Trainig/Logs'\n",
    "Model_path = os.path.join('Trainig','Saved_Models', 'CEMAgent_env1.h5f')"
   ]
  },
  {
   "cell_type": "code",
   "execution_count": 3,
   "metadata": {},
   "outputs": [],
   "source": [
    "env = PongGame(game_speed = 2)\n",
    "\n",
    "states = env.action_space.shape\n",
    "actions = env.action_space.n"
   ]
  },
  {
   "cell_type": "code",
   "execution_count": 6,
   "metadata": {},
   "outputs": [],
   "source": [
    "# Option 1 : Simple model\n",
    "model = Sequential()\n",
    "model.add(Flatten(input_shape=(1,) + env.observation_space.shape))\n",
    "model.add(Dense(actions))\n",
    "model.add(Activation('softmax'))\n",
    "\n",
    "# Option 2: deep network\n",
    "# model = Sequential()\n",
    "# model.add(Flatten(input_shape=(1,) + env.observation_space.shape))\n",
    "# model.add(Dense(16))\n",
    "# model.add(Activation('relu'))\n",
    "# model.add(Dense(16))\n",
    "# model.add(Activation('relu'))\n",
    "# model.add(Dense(16))\n",
    "# model.add(Activation('relu'))\n",
    "# model.add(Dense(nb_actions))\n",
    "# model.add(Activation('softmax'))"
   ]
  },
  {
   "cell_type": "code",
   "execution_count": 7,
   "metadata": {},
   "outputs": [
    {
     "name": "stdout",
     "output_type": "stream",
     "text": [
      "Model: \"sequential_1\"\n",
      "_________________________________________________________________\n",
      "Layer (type)                 Output Shape              Param #   \n",
      "=================================================================\n",
      "flatten_1 (Flatten)          (None, 5)                 0         \n",
      "_________________________________________________________________\n",
      "dense_1 (Dense)              (None, 3)                 18        \n",
      "_________________________________________________________________\n",
      "activation (Activation)      (None, 3)                 0         \n",
      "=================================================================\n",
      "Total params: 18\n",
      "Trainable params: 18\n",
      "Non-trainable params: 0\n",
      "_________________________________________________________________\n"
     ]
    }
   ],
   "source": [
    "model.summary()"
   ]
  },
  {
   "cell_type": "code",
   "execution_count": 9,
   "metadata": {},
   "outputs": [],
   "source": [
    "memory = EpisodeParameterMemory(limit=1000, window_length=1)\n",
    "\n",
    "cem = CEMAgent(model=model, nb_actions=actions, memory=memory,\n",
    "               batch_size=50, nb_steps_warmup=2000, train_interval=50, elite_frac=0.05)\n",
    "cem.compile()"
   ]
  },
  {
   "cell_type": "code",
   "execution_count": 10,
   "metadata": {},
   "outputs": [
    {
     "name": "stdout",
     "output_type": "stream",
     "text": [
      "Training for 100000 steps ...\n"
     ]
    },
    {
     "name": "stderr",
     "output_type": "stream",
     "text": [
      "2021-12-12 12:55:48.307679: W tensorflow/core/data/root_dataset.cc:163] Optimization loop failed: CANCELLED: Operation was cancelled\n",
      "2021-12-12 12:55:48.360021: W tensorflow/core/data/root_dataset.cc:163] Optimization loop failed: CANCELLED: Operation was cancelled\n",
      "2021-12-12 12:55:48.407408: W tensorflow/core/data/root_dataset.cc:163] Optimization loop failed: CANCELLED: Operation was cancelled\n",
      "2021-12-12 12:55:48.427396: W tensorflow/core/data/root_dataset.cc:163] Optimization loop failed: CANCELLED: Operation was cancelled\n",
      "2021-12-12 12:55:48.452979: W tensorflow/core/data/root_dataset.cc:163] Optimization loop failed: CANCELLED: Operation was cancelled\n",
      "2021-12-12 12:55:48.495404: W tensorflow/core/data/root_dataset.cc:163] Optimization loop failed: CANCELLED: Operation was cancelled\n",
      "2021-12-12 12:55:48.560839: W tensorflow/core/data/root_dataset.cc:163] Optimization loop failed: CANCELLED: Operation was cancelled\n",
      "2021-12-12 12:55:48.605571: W tensorflow/core/data/root_dataset.cc:163] Optimization loop failed: CANCELLED: Operation was cancelled\n",
      "2021-12-12 12:55:48.622145: W tensorflow/core/data/root_dataset.cc:163] Optimization loop failed: CANCELLED: Operation was cancelled\n",
      "2021-12-12 12:55:48.641380: W tensorflow/core/data/root_dataset.cc:163] Optimization loop failed: CANCELLED: Operation was cancelled\n"
     ]
    },
    {
     "name": "stdout",
     "output_type": "stream",
     "text": [
      "    98/100000: episode: 1, duration: 1.378s, episode steps: 98, steps per second: 71, episode reward: 0.000, mean reward: 0.000 [0.000, 0.000], mean action: 0.602 [0.000, 2.000], mean observation: 182.276 [1.000, 255.000], mean_best_reward: --\n",
      "   382/100000: episode: 2, duration: 2.500s, episode steps: 284, steps per second: 114, episode reward: 0.000, mean reward: 0.000 [0.000, 0.000], mean action: 1.204 [0.000, 2.000], mean observation: 149.388 [0.000, 255.000], mean_best_reward: --\n"
     ]
    },
    {
     "name": "stderr",
     "output_type": "stream",
     "text": [
      "2021-12-12 12:55:53.115084: W tensorflow/core/data/root_dataset.cc:163] Optimization loop failed: CANCELLED: Operation was cancelled\n"
     ]
    },
    {
     "name": "stdout",
     "output_type": "stream",
     "text": [
      "   666/100000: episode: 3, duration: 2.084s, episode steps: 284, steps per second: 136, episode reward: 0.000, mean reward: 0.000 [0.000, 0.000], mean action: 1.306 [0.000, 2.000], mean observation: 108.759 [0.000, 255.000], mean_best_reward: --\n"
     ]
    },
    {
     "name": "stderr",
     "output_type": "stream",
     "text": [
      "2021-12-12 12:55:54.153122: W tensorflow/core/data/root_dataset.cc:163] Optimization loop failed: CANCELLED: Operation was cancelled\n",
      "2021-12-12 12:55:54.170866: W tensorflow/core/data/root_dataset.cc:163] Optimization loop failed: CANCELLED: Operation was cancelled\n",
      "2021-12-12 12:55:54.217909: W tensorflow/core/data/root_dataset.cc:163] Optimization loop failed: CANCELLED: Operation was cancelled\n",
      "2021-12-12 12:55:54.267618: W tensorflow/core/data/root_dataset.cc:163] Optimization loop failed: CANCELLED: Operation was cancelled\n",
      "2021-12-12 12:55:54.297401: W tensorflow/core/data/root_dataset.cc:163] Optimization loop failed: CANCELLED: Operation was cancelled\n",
      "2021-12-12 12:55:54.316143: W tensorflow/core/data/root_dataset.cc:163] Optimization loop failed: CANCELLED: Operation was cancelled\n",
      "2021-12-12 12:55:54.338149: W tensorflow/core/data/root_dataset.cc:163] Optimization loop failed: CANCELLED: Operation was cancelled\n",
      "2021-12-12 12:55:54.371132: W tensorflow/core/data/root_dataset.cc:163] Optimization loop failed: CANCELLED: Operation was cancelled\n",
      "2021-12-12 12:55:54.397254: W tensorflow/core/data/root_dataset.cc:163] Optimization loop failed: CANCELLED: Operation was cancelled\n"
     ]
    },
    {
     "name": "stdout",
     "output_type": "stream",
     "text": [
      "   764/100000: episode: 4, duration: 0.934s, episode steps: 98, steps per second: 105, episode reward: 0.000, mean reward: 0.000 [0.000, 0.000], mean action: 0.684 [0.000, 2.000], mean observation: 130.778 [0.000, 255.000], mean_best_reward: --\n"
     ]
    },
    {
     "name": "stderr",
     "output_type": "stream",
     "text": [
      "2021-12-12 12:55:57.572743: W tensorflow/core/data/root_dataset.cc:163] Optimization loop failed: CANCELLED: Operation was cancelled\n",
      "2021-12-12 12:55:57.639327: W tensorflow/core/data/root_dataset.cc:163] Optimization loop failed: CANCELLED: Operation was cancelled\n",
      "2021-12-12 12:55:57.681073: W tensorflow/core/data/root_dataset.cc:163] Optimization loop failed: CANCELLED: Operation was cancelled\n"
     ]
    },
    {
     "name": "stdout",
     "output_type": "stream",
     "text": [
      "  1236/100000: episode: 5, duration: 3.539s, episode steps: 472, steps per second: 133, episode reward: 2632.000, mean reward: 5.576 [0.000, 7.000], mean action: 0.669 [0.000, 2.000], mean observation: 133.438 [0.000, 255.000], mean_best_reward: --\n",
      "  1334/100000: episode: 6, duration: 0.670s, episode steps: 98, steps per second: 146, episode reward: 0.000, mean reward: 0.000 [0.000, 0.000], mean action: 0.776 [0.000, 2.000], mean observation: 143.865 [1.000, 255.000], mean_best_reward: --\n"
     ]
    },
    {
     "name": "stderr",
     "output_type": "stream",
     "text": [
      "2021-12-12 12:55:59.545279: W tensorflow/core/data/root_dataset.cc:163] Optimization loop failed: CANCELLED: Operation was cancelled\n",
      "2021-12-12 12:55:59.581073: W tensorflow/core/data/root_dataset.cc:163] Optimization loop failed: CANCELLED: Operation was cancelled\n",
      "2021-12-12 12:55:59.598340: W tensorflow/core/data/root_dataset.cc:163] Optimization loop failed: CANCELLED: Operation was cancelled\n",
      "2021-12-12 12:55:59.733886: W tensorflow/core/data/root_dataset.cc:163] Optimization loop failed: CANCELLED: Operation was cancelled\n",
      "2021-12-12 12:56:00.551863: W tensorflow/core/data/root_dataset.cc:163] Optimization loop failed: CANCELLED: Operation was cancelled\n",
      "2021-12-12 12:56:00.608752: W tensorflow/core/data/root_dataset.cc:163] Optimization loop failed: CANCELLED: Operation was cancelled\n"
     ]
    },
    {
     "name": "stdout",
     "output_type": "stream",
     "text": [
      "  1618/100000: episode: 7, duration: 1.951s, episode steps: 284, steps per second: 146, episode reward: 0.000, mean reward: 0.000 [0.000, 0.000], mean action: 1.077 [0.000, 2.000], mean observation: 135.568 [0.000, 255.000], mean_best_reward: --\n"
     ]
    },
    {
     "name": "stderr",
     "output_type": "stream",
     "text": [
      "2021-12-12 12:56:02.997408: W tensorflow/core/data/root_dataset.cc:163] Optimization loop failed: CANCELLED: Operation was cancelled\n",
      "2021-12-12 12:56:03.042209: W tensorflow/core/data/root_dataset.cc:163] Optimization loop failed: CANCELLED: Operation was cancelled\n",
      "2021-12-12 12:56:03.219886: W tensorflow/core/data/root_dataset.cc:163] Optimization loop failed: CANCELLED: Operation was cancelled\n"
     ]
    },
    {
     "name": "stdout",
     "output_type": "stream",
     "text": [
      "  1902/100000: episode: 8, duration: 2.590s, episode steps: 284, steps per second: 110, episode reward: 0.000, mean reward: 0.000 [0.000, 0.000], mean action: 0.648 [0.000, 2.000], mean observation: 150.144 [1.000, 255.000], mean_best_reward: --\n"
     ]
    },
    {
     "name": "stderr",
     "output_type": "stream",
     "text": [
      "2021-12-12 12:56:04.756800: W tensorflow/core/data/root_dataset.cc:163] Optimization loop failed: CANCELLED: Operation was cancelled\n"
     ]
    },
    {
     "name": "stdout",
     "output_type": "stream",
     "text": [
      "  2186/100000: episode: 9, duration: 1.961s, episode steps: 284, steps per second: 145, episode reward: 0.000, mean reward: 0.000 [0.000, 0.000], mean action: 0.768 [0.000, 2.000], mean observation: 123.184 [0.000, 255.000], mean_best_reward: --\n"
     ]
    },
    {
     "name": "stderr",
     "output_type": "stream",
     "text": [
      "2021-12-12 12:56:07.177061: W tensorflow/core/data/root_dataset.cc:163] Optimization loop failed: CANCELLED: Operation was cancelled\n",
      "2021-12-12 12:56:10.411730: W tensorflow/core/data/root_dataset.cc:163] Optimization loop failed: CANCELLED: Operation was cancelled\n"
     ]
    },
    {
     "name": "stdout",
     "output_type": "stream",
     "text": [
      "  3008/100000: episode: 10, duration: 6.011s, episode steps: 822, steps per second: 137, episode reward: 1108.000, mean reward: 1.348 [0.000, 2.000], mean action: 1.015 [0.000, 2.000], mean observation: 102.943 [0.000, 255.000], mean_best_reward: --\n",
      "  3292/100000: episode: 11, duration: 2.361s, episode steps: 284, steps per second: 120, episode reward: 0.000, mean reward: 0.000 [0.000, 0.000], mean action: 0.944 [0.000, 2.000], mean observation: 108.964 [0.000, 255.000], mean_best_reward: --\n",
      "  3390/100000: episode: 12, duration: 0.582s, episode steps: 98, steps per second: 168, episode reward: 0.000, mean reward: 0.000 [0.000, 0.000], mean action: 1.214 [0.000, 2.000], mean observation: 134.716 [1.000, 255.000], mean_best_reward: --\n"
     ]
    },
    {
     "name": "stderr",
     "output_type": "stream",
     "text": [
      "2021-12-12 12:56:17.666530: W tensorflow/core/data/root_dataset.cc:163] Optimization loop failed: CANCELLED: Operation was cancelled\n",
      "2021-12-12 12:56:17.675633: W tensorflow/core/data/root_dataset.cc:163] Optimization loop failed: CANCELLED: Operation was cancelled\n",
      "2021-12-12 12:56:17.706262: W tensorflow/core/data/root_dataset.cc:163] Optimization loop failed: CANCELLED: Operation was cancelled\n",
      "2021-12-12 12:56:17.735268: W tensorflow/core/data/root_dataset.cc:163] Optimization loop failed: CANCELLED: Operation was cancelled\n"
     ]
    },
    {
     "name": "stdout",
     "output_type": "stream",
     "text": [
      "  4036/100000: episode: 13, duration: 5.041s, episode steps: 646, steps per second: 128, episode reward: 373.000, mean reward: 0.577 [0.000, 1.000], mean action: 0.972 [0.000, 2.000], mean observation: 109.481 [0.000, 255.000], mean_best_reward: --\n",
      "  4134/100000: episode: 14, duration: 0.806s, episode steps: 98, steps per second: 122, episode reward: 0.000, mean reward: 0.000 [0.000, 0.000], mean action: 1.010 [0.000, 2.000], mean observation: 124.318 [0.000, 255.000], mean_best_reward: --\n"
     ]
    },
    {
     "name": "stderr",
     "output_type": "stream",
     "text": [
      "2021-12-12 12:56:22.251785: W tensorflow/core/data/root_dataset.cc:163] Optimization loop failed: CANCELLED: Operation was cancelled\n"
     ]
    },
    {
     "name": "stdout",
     "output_type": "stream",
     "text": [
      "  4594/100000: episode: 15, duration: 3.740s, episode steps: 460, steps per second: 123, episode reward: 373.000, mean reward: 0.811 [0.000, 1.000], mean action: 1.070 [0.000, 2.000], mean observation: 130.940 [0.000, 255.000], mean_best_reward: --\n",
      "  4878/100000: episode: 16, duration: 1.752s, episode steps: 284, steps per second: 162, episode reward: 0.000, mean reward: 0.000 [0.000, 0.000], mean action: 1.039 [0.000, 2.000], mean observation: 119.497 [0.000, 255.000], mean_best_reward: --\n"
     ]
    },
    {
     "name": "stderr",
     "output_type": "stream",
     "text": [
      "2021-12-12 12:56:27.433041: W tensorflow/core/data/root_dataset.cc:163] Optimization loop failed: CANCELLED: Operation was cancelled\n",
      "2021-12-12 12:56:27.517444: W tensorflow/core/data/root_dataset.cc:163] Optimization loop failed: CANCELLED: Operation was cancelled\n",
      "2021-12-12 12:56:27.634736: W tensorflow/core/data/root_dataset.cc:163] Optimization loop failed: CANCELLED: Operation was cancelled\n",
      "2021-12-12 12:56:28.537353: W tensorflow/core/data/root_dataset.cc:163] Optimization loop failed: CANCELLED: Operation was cancelled\n"
     ]
    },
    {
     "name": "stdout",
     "output_type": "stream",
     "text": [
      "  5162/100000: episode: 17, duration: 2.965s, episode steps: 284, steps per second: 96, episode reward: 0.000, mean reward: 0.000 [0.000, 0.000], mean action: 1.461 [0.000, 2.000], mean observation: 132.138 [0.000, 255.000], mean_best_reward: --\n",
      "  5260/100000: episode: 18, duration: 0.862s, episode steps: 98, steps per second: 114, episode reward: 0.000, mean reward: 0.000 [0.000, 0.000], mean action: 0.612 [0.000, 2.000], mean observation: 118.571 [0.000, 255.000], mean_best_reward: --\n"
     ]
    },
    {
     "name": "stderr",
     "output_type": "stream",
     "text": [
      "2021-12-12 12:56:29.815066: W tensorflow/core/data/root_dataset.cc:163] Optimization loop failed: CANCELLED: Operation was cancelled\n",
      "2021-12-12 12:56:29.844915: W tensorflow/core/data/root_dataset.cc:163] Optimization loop failed: CANCELLED: Operation was cancelled\n",
      "2021-12-12 12:56:29.862992: W tensorflow/core/data/root_dataset.cc:163] Optimization loop failed: CANCELLED: Operation was cancelled\n",
      "2021-12-12 12:56:30.184939: W tensorflow/core/data/root_dataset.cc:163] Optimization loop failed: CANCELLED: Operation was cancelled\n"
     ]
    },
    {
     "name": "stdout",
     "output_type": "stream",
     "text": [
      "  5544/100000: episode: 19, duration: 2.621s, episode steps: 284, steps per second: 108, episode reward: 0.000, mean reward: 0.000 [0.000, 0.000], mean action: 0.736 [0.000, 2.000], mean observation: 107.879 [0.000, 255.000], mean_best_reward: --\n"
     ]
    },
    {
     "name": "stderr",
     "output_type": "stream",
     "text": [
      "2021-12-12 12:56:34.927483: W tensorflow/core/data/root_dataset.cc:163] Optimization loop failed: CANCELLED: Operation was cancelled\n",
      "2021-12-12 12:56:35.156343: W tensorflow/core/data/root_dataset.cc:163] Optimization loop failed: CANCELLED: Operation was cancelled\n",
      "2021-12-12 12:56:35.187981: W tensorflow/core/data/root_dataset.cc:163] Optimization loop failed: CANCELLED: Operation was cancelled\n",
      "2021-12-12 12:56:35.219831: W tensorflow/core/data/root_dataset.cc:163] Optimization loop failed: CANCELLED: Operation was cancelled\n",
      "2021-12-12 12:56:35.247394: W tensorflow/core/data/root_dataset.cc:163] Optimization loop failed: CANCELLED: Operation was cancelled\n",
      "2021-12-12 12:56:35.267997: W tensorflow/core/data/root_dataset.cc:163] Optimization loop failed: CANCELLED: Operation was cancelled\n",
      "2021-12-12 12:56:35.279364: W tensorflow/core/data/root_dataset.cc:163] Optimization loop failed: CANCELLED: Operation was cancelled\n",
      "2021-12-12 12:56:35.307398: W tensorflow/core/data/root_dataset.cc:163] Optimization loop failed: CANCELLED: Operation was cancelled\n",
      "2021-12-12 12:56:35.315502: W tensorflow/core/data/root_dataset.cc:163] Optimization loop failed: CANCELLED: Operation was cancelled\n",
      "2021-12-12 12:56:35.929327: W tensorflow/core/data/root_dataset.cc:163] Optimization loop failed: CANCELLED: Operation was cancelled\n",
      "2021-12-12 12:56:35.947466: W tensorflow/core/data/root_dataset.cc:163] Optimization loop failed: CANCELLED: Operation was cancelled\n",
      "2021-12-12 12:56:35.957755: W tensorflow/core/data/root_dataset.cc:163] Optimization loop failed: CANCELLED: Operation was cancelled\n",
      "2021-12-12 12:56:36.071036: W tensorflow/core/data/root_dataset.cc:163] Optimization loop failed: CANCELLED: Operation was cancelled\n",
      "2021-12-12 12:56:36.085962: W tensorflow/core/data/root_dataset.cc:163] Optimization loop failed: CANCELLED: Operation was cancelled\n"
     ]
    },
    {
     "name": "stdout",
     "output_type": "stream",
     "text": [
      "  6190/100000: episode: 20, duration: 4.848s, episode steps: 646, steps per second: 133, episode reward: 373.000, mean reward: 0.577 [0.000, 1.000], mean action: 0.765 [0.000, 2.000], mean observation: 115.178 [0.000, 255.000], mean_best_reward: --\n"
     ]
    },
    {
     "name": "stderr",
     "output_type": "stream",
     "text": [
      "2021-12-12 12:56:37.204133: W tensorflow/core/data/root_dataset.cc:163] Optimization loop failed: CANCELLED: Operation was cancelled\n",
      "2021-12-12 12:56:37.230830: W tensorflow/core/data/root_dataset.cc:163] Optimization loop failed: CANCELLED: Operation was cancelled\n",
      "2021-12-12 12:56:37.323872: W tensorflow/core/data/root_dataset.cc:163] Optimization loop failed: CANCELLED: Operation was cancelled\n",
      "2021-12-12 12:56:37.353041: W tensorflow/core/data/root_dataset.cc:163] Optimization loop failed: CANCELLED: Operation was cancelled\n",
      "2021-12-12 12:56:38.096673: W tensorflow/core/data/root_dataset.cc:163] Optimization loop failed: CANCELLED: Operation was cancelled\n",
      "2021-12-12 12:56:38.108897: W tensorflow/core/data/root_dataset.cc:163] Optimization loop failed: CANCELLED: Operation was cancelled\n",
      "2021-12-12 12:56:38.121034: W tensorflow/core/data/root_dataset.cc:163] Optimization loop failed: CANCELLED: Operation was cancelled\n"
     ]
    },
    {
     "name": "stdout",
     "output_type": "stream",
     "text": [
      "  6474/100000: episode: 21, duration: 2.433s, episode steps: 284, steps per second: 117, episode reward: 0.000, mean reward: 0.000 [0.000, 0.000], mean action: 0.789 [0.000, 2.000], mean observation: 121.095 [0.000, 255.000], mean_best_reward: --\n",
      "  6934/100000: episode: 22, duration: 4.200s, episode steps: 460, steps per second: 110, episode reward: 373.000, mean reward: 0.811 [0.000, 1.000], mean action: 1.150 [0.000, 2.000], mean observation: 124.387 [0.000, 255.000], mean_best_reward: --\n",
      "  7218/100000: episode: 23, duration: 2.437s, episode steps: 284, steps per second: 117, episode reward: 0.000, mean reward: 0.000 [0.000, 0.000], mean action: 1.387 [0.000, 2.000], mean observation: 125.673 [0.000, 255.000], mean_best_reward: --\n",
      "  7316/100000: episode: 24, duration: 0.666s, episode steps: 98, steps per second: 147, episode reward: 0.000, mean reward: 0.000 [0.000, 0.000], mean action: 1.255 [0.000, 2.000], mean observation: 141.286 [1.000, 255.000], mean_best_reward: --\n",
      "  7600/100000: episode: 25, duration: 2.150s, episode steps: 284, steps per second: 132, episode reward: 0.000, mean reward: 0.000 [0.000, 0.000], mean action: 0.743 [0.000, 2.000], mean observation: 153.915 [0.000, 255.000], mean_best_reward: --\n",
      "  8060/100000: episode: 26, duration: 3.523s, episode steps: 460, steps per second: 131, episode reward: 373.000, mean reward: 0.811 [0.000, 1.000], mean action: 1.085 [0.000, 2.000], mean observation: 131.864 [0.000, 255.000], mean_best_reward: --\n"
     ]
    },
    {
     "name": "stderr",
     "output_type": "stream",
     "text": [
      "2021-12-12 12:56:53.598541: W tensorflow/core/data/root_dataset.cc:163] Optimization loop failed: CANCELLED: Operation was cancelled\n"
     ]
    },
    {
     "name": "stdout",
     "output_type": "stream",
     "text": [
      "  8344/100000: episode: 27, duration: 2.453s, episode steps: 284, steps per second: 116, episode reward: 0.000, mean reward: 0.000 [0.000, 0.000], mean action: 0.729 [0.000, 2.000], mean observation: 110.718 [0.000, 255.000], mean_best_reward: --\n",
      "  8442/100000: episode: 28, duration: 0.887s, episode steps: 98, steps per second: 110, episode reward: 0.000, mean reward: 0.000 [0.000, 0.000], mean action: 0.633 [0.000, 2.000], mean observation: 129.235 [0.000, 255.000], mean_best_reward: --\n",
      "  8726/100000: episode: 29, duration: 2.738s, episode steps: 284, steps per second: 104, episode reward: 0.000, mean reward: 0.000 [0.000, 0.000], mean action: 0.673 [0.000, 2.000], mean observation: 117.302 [1.000, 255.000], mean_best_reward: --\n",
      "  9734/100000: episode: 30, duration: 6.823s, episode steps: 1008, steps per second: 148, episode reward: 1108.000, mean reward: 1.099 [0.000, 2.000], mean action: 0.723 [0.000, 2.000], mean observation: 108.254 [0.000, 255.000], mean_best_reward: --\n",
      "  9832/100000: episode: 31, duration: 0.845s, episode steps: 98, steps per second: 116, episode reward: 0.000, mean reward: 0.000 [0.000, 0.000], mean action: 1.020 [0.000, 2.000], mean observation: 124.249 [1.000, 255.000], mean_best_reward: --\n",
      "  9930/100000: episode: 32, duration: 1.009s, episode steps: 98, steps per second: 97, episode reward: 0.000, mean reward: 0.000 [0.000, 0.000], mean action: 1.204 [0.000, 2.000], mean observation: 131.647 [0.000, 255.000], mean_best_reward: --\n",
      " 10214/100000: episode: 33, duration: 1.689s, episode steps: 284, steps per second: 168, episode reward: 0.000, mean reward: 0.000 [0.000, 0.000], mean action: 1.085 [0.000, 2.000], mean observation: 137.837 [0.000, 255.000], mean_best_reward: --\n",
      " 10860/100000: episode: 34, duration: 3.876s, episode steps: 646, steps per second: 167, episode reward: 373.000, mean reward: 0.577 [0.000, 1.000], mean action: 1.238 [0.000, 2.000], mean observation: 114.746 [0.000, 255.000], mean_best_reward: --\n"
     ]
    },
    {
     "name": "stderr",
     "output_type": "stream",
     "text": [
      "2021-12-12 12:57:13.471791: W tensorflow/core/data/root_dataset.cc:163] Optimization loop failed: CANCELLED: Operation was cancelled\n"
     ]
    },
    {
     "name": "stdout",
     "output_type": "stream",
     "text": [
      " 11144/100000: episode: 35, duration: 2.253s, episode steps: 284, steps per second: 126, episode reward: 0.000, mean reward: 0.000 [0.000, 0.000], mean action: 1.246 [0.000, 2.000], mean observation: 115.777 [0.000, 255.000], mean_best_reward: --\n"
     ]
    },
    {
     "name": "stderr",
     "output_type": "stream",
     "text": [
      "2021-12-12 12:57:15.461442: W tensorflow/core/data/root_dataset.cc:163] Optimization loop failed: CANCELLED: Operation was cancelled\n",
      "2021-12-12 12:57:15.516931: W tensorflow/core/data/root_dataset.cc:163] Optimization loop failed: CANCELLED: Operation was cancelled\n",
      "2021-12-12 12:57:15.927390: W tensorflow/core/data/root_dataset.cc:163] Optimization loop failed: CANCELLED: Operation was cancelled\n",
      "2021-12-12 12:57:16.018441: W tensorflow/core/data/root_dataset.cc:163] Optimization loop failed: CANCELLED: Operation was cancelled\n",
      "2021-12-12 12:57:16.055888: W tensorflow/core/data/root_dataset.cc:163] Optimization loop failed: CANCELLED: Operation was cancelled\n",
      "2021-12-12 12:57:16.065817: W tensorflow/core/data/root_dataset.cc:163] Optimization loop failed: CANCELLED: Operation was cancelled\n",
      "2021-12-12 12:57:16.097403: W tensorflow/core/data/root_dataset.cc:163] Optimization loop failed: CANCELLED: Operation was cancelled\n",
      "2021-12-12 12:57:16.127420: W tensorflow/core/data/root_dataset.cc:163] Optimization loop failed: CANCELLED: Operation was cancelled\n",
      "2021-12-12 12:57:16.147698: W tensorflow/core/data/root_dataset.cc:163] Optimization loop failed: CANCELLED: Operation was cancelled\n",
      "2021-12-12 12:57:16.194666: W tensorflow/core/data/root_dataset.cc:163] Optimization loop failed: CANCELLED: Operation was cancelled\n",
      "2021-12-12 12:57:16.205764: W tensorflow/core/data/root_dataset.cc:163] Optimization loop failed: CANCELLED: Operation was cancelled\n",
      "2021-12-12 12:57:16.242279: W tensorflow/core/data/root_dataset.cc:163] Optimization loop failed: CANCELLED: Operation was cancelled\n",
      "2021-12-12 12:57:18.931016: W tensorflow/core/data/root_dataset.cc:163] Optimization loop failed: CANCELLED: Operation was cancelled\n"
     ]
    },
    {
     "name": "stdout",
     "output_type": "stream",
     "text": [
      " 11966/100000: episode: 36, duration: 7.202s, episode steps: 822, steps per second: 114, episode reward: 1108.000, mean reward: 1.348 [0.000, 2.000], mean action: 1.129 [0.000, 2.000], mean observation: 108.326 [0.000, 255.000], mean_best_reward: --\n"
     ]
    },
    {
     "name": "stderr",
     "output_type": "stream",
     "text": [
      "2021-12-12 12:57:23.708012: W tensorflow/core/data/root_dataset.cc:163] Optimization loop failed: CANCELLED: Operation was cancelled\n"
     ]
    },
    {
     "name": "stdout",
     "output_type": "stream",
     "text": [
      " 12250/100000: episode: 37, duration: 1.971s, episode steps: 284, steps per second: 144, episode reward: 0.000, mean reward: 0.000 [0.000, 0.000], mean action: 1.324 [0.000, 2.000], mean observation: 146.179 [0.000, 255.000], mean_best_reward: --\n",
      " 12348/100000: episode: 38, duration: 0.601s, episode steps: 98, steps per second: 163, episode reward: 0.000, mean reward: 0.000 [0.000, 0.000], mean action: 1.041 [0.000, 2.000], mean observation: 126.239 [1.000, 255.000], mean_best_reward: --\n",
      " 12632/100000: episode: 39, duration: 1.649s, episode steps: 284, steps per second: 172, episode reward: 0.000, mean reward: 0.000 [0.000, 0.000], mean action: 0.915 [0.000, 2.000], mean observation: 117.809 [0.000, 255.000], mean_best_reward: --\n",
      " 12916/100000: episode: 40, duration: 1.725s, episode steps: 284, steps per second: 165, episode reward: 0.000, mean reward: 0.000 [0.000, 0.000], mean action: 1.081 [0.000, 2.000], mean observation: 153.520 [0.000, 255.000], mean_best_reward: --\n",
      " 13014/100000: episode: 41, duration: 0.601s, episode steps: 98, steps per second: 163, episode reward: 0.000, mean reward: 0.000 [0.000, 0.000], mean action: 1.112 [0.000, 2.000], mean observation: 126.753 [0.000, 255.000], mean_best_reward: --\n",
      " 13474/100000: episode: 42, duration: 3.020s, episode steps: 460, steps per second: 152, episode reward: 373.000, mean reward: 0.811 [0.000, 1.000], mean action: 0.922 [0.000, 2.000], mean observation: 140.094 [0.000, 255.000], mean_best_reward: --\n",
      " 13572/100000: episode: 43, duration: 0.839s, episode steps: 98, steps per second: 117, episode reward: 0.000, mean reward: 0.000 [0.000, 0.000], mean action: 1.306 [0.000, 2.000], mean observation: 185.994 [1.000, 255.000], mean_best_reward: --\n"
     ]
    },
    {
     "name": "stderr",
     "output_type": "stream",
     "text": [
      "2021-12-12 12:57:32.927436: W tensorflow/core/data/root_dataset.cc:163] Optimization loop failed: CANCELLED: Operation was cancelled\n",
      "2021-12-12 12:57:32.948587: W tensorflow/core/data/root_dataset.cc:163] Optimization loop failed: CANCELLED: Operation was cancelled\n",
      "2021-12-12 12:57:32.968182: W tensorflow/core/data/root_dataset.cc:163] Optimization loop failed: CANCELLED: Operation was cancelled\n",
      "2021-12-12 12:57:32.997423: W tensorflow/core/data/root_dataset.cc:163] Optimization loop failed: CANCELLED: Operation was cancelled\n",
      "2021-12-12 12:57:33.047393: W tensorflow/core/data/root_dataset.cc:163] Optimization loop failed: CANCELLED: Operation was cancelled\n",
      "2021-12-12 12:57:33.083175: W tensorflow/core/data/root_dataset.cc:163] Optimization loop failed: CANCELLED: Operation was cancelled\n",
      "2021-12-12 12:57:33.737397: W tensorflow/core/data/root_dataset.cc:163] Optimization loop failed: CANCELLED: Operation was cancelled\n",
      "2021-12-12 12:57:33.745970: W tensorflow/core/data/root_dataset.cc:163] Optimization loop failed: CANCELLED: Operation was cancelled\n",
      "2021-12-12 12:57:33.797416: W tensorflow/core/data/root_dataset.cc:163] Optimization loop failed: CANCELLED: Operation was cancelled\n",
      "2021-12-12 12:57:33.817450: W tensorflow/core/data/root_dataset.cc:163] Optimization loop failed: CANCELLED: Operation was cancelled\n",
      "2021-12-12 12:57:33.837388: W tensorflow/core/data/root_dataset.cc:163] Optimization loop failed: CANCELLED: Operation was cancelled\n",
      "2021-12-12 12:57:33.855705: W tensorflow/core/data/root_dataset.cc:163] Optimization loop failed: CANCELLED: Operation was cancelled\n"
     ]
    },
    {
     "name": "stdout",
     "output_type": "stream",
     "text": [
      " 13856/100000: episode: 44, duration: 2.149s, episode steps: 284, steps per second: 132, episode reward: 0.000, mean reward: 0.000 [0.000, 0.000], mean action: 0.951 [0.000, 2.000], mean observation: 118.281 [0.000, 255.000], mean_best_reward: --\n",
      " 14502/100000: episode: 45, duration: 3.999s, episode steps: 646, steps per second: 162, episode reward: 373.000, mean reward: 0.577 [0.000, 1.000], mean action: 0.907 [0.000, 2.000], mean observation: 125.771 [0.000, 255.000], mean_best_reward: --\n",
      " 14600/100000: episode: 46, duration: 0.615s, episode steps: 98, steps per second: 159, episode reward: 0.000, mean reward: 0.000 [0.000, 0.000], mean action: 0.969 [0.000, 2.000], mean observation: 128.239 [1.000, 255.000], mean_best_reward: --\n",
      " 14698/100000: episode: 47, duration: 1.078s, episode steps: 98, steps per second: 91, episode reward: 0.000, mean reward: 0.000 [0.000, 0.000], mean action: 1.439 [0.000, 2.000], mean observation: 136.196 [1.000, 255.000], mean_best_reward: --\n",
      " 14982/100000: episode: 48, duration: 2.868s, episode steps: 284, steps per second: 99, episode reward: 0.000, mean reward: 0.000 [0.000, 0.000], mean action: 0.979 [0.000, 2.000], mean observation: 102.689 [1.000, 255.000], mean_best_reward: --\n",
      " 15080/100000: episode: 49, duration: 1.092s, episode steps: 98, steps per second: 90, episode reward: 0.000, mean reward: 0.000 [0.000, 0.000], mean action: 0.520 [0.000, 2.000], mean observation: 171.971 [1.000, 255.000], mean_best_reward: --\n",
      " 15364/100000: episode: 50, duration: 2.179s, episode steps: 284, steps per second: 130, episode reward: 0.000, mean reward: 0.000 [0.000, 0.000], mean action: 1.025 [0.000, 2.000], mean observation: 107.151 [0.000, 255.000], mean_best_reward: --\n",
      " 15824/100000: episode: 51, duration: 2.881s, episode steps: 460, steps per second: 160, episode reward: 373.000, mean reward: 0.811 [0.000, 1.000], mean action: 1.343 [0.000, 2.000], mean observation: 124.783 [0.000, 255.000], mean_best_reward: 1870.000000\n",
      " 15922/100000: episode: 52, duration: 0.732s, episode steps: 98, steps per second: 134, episode reward: 0.000, mean reward: 0.000 [0.000, 0.000], mean action: 0.643 [0.000, 2.000], mean observation: 191.400 [0.000, 255.000], mean_best_reward: --\n",
      " 16400/100000: episode: 53, duration: 3.619s, episode steps: 478, steps per second: 132, episode reward: 3775.000, mean reward: 7.897 [0.000, 10.000], mean action: 1.065 [0.000, 2.000], mean observation: 122.571 [0.000, 255.000], mean_best_reward: --\n",
      " 16498/100000: episode: 54, duration: 0.809s, episode steps: 98, steps per second: 121, episode reward: 0.000, mean reward: 0.000 [0.000, 0.000], mean action: 0.969 [0.000, 2.000], mean observation: 152.610 [1.000, 255.000], mean_best_reward: --\n",
      " 17144/100000: episode: 55, duration: 4.709s, episode steps: 646, steps per second: 137, episode reward: 373.000, mean reward: 0.577 [0.000, 1.000], mean action: 0.650 [0.000, 2.000], mean observation: 137.833 [0.000, 255.000], mean_best_reward: --\n",
      " 17428/100000: episode: 56, duration: 1.761s, episode steps: 284, steps per second: 161, episode reward: 0.000, mean reward: 0.000 [0.000, 0.000], mean action: 0.673 [0.000, 2.000], mean observation: 146.353 [0.000, 255.000], mean_best_reward: --\n",
      " 17712/100000: episode: 57, duration: 2.102s, episode steps: 284, steps per second: 135, episode reward: 0.000, mean reward: 0.000 [0.000, 0.000], mean action: 0.778 [0.000, 2.000], mean observation: 121.385 [0.000, 255.000], mean_best_reward: --\n",
      " 18172/100000: episode: 58, duration: 3.185s, episode steps: 460, steps per second: 144, episode reward: 373.000, mean reward: 0.811 [0.000, 1.000], mean action: 0.680 [0.000, 2.000], mean observation: 136.226 [0.000, 255.000], mean_best_reward: --\n",
      " 18456/100000: episode: 59, duration: 1.906s, episode steps: 284, steps per second: 149, episode reward: 0.000, mean reward: 0.000 [0.000, 0.000], mean action: 0.704 [0.000, 2.000], mean observation: 133.301 [0.000, 255.000], mean_best_reward: --\n",
      " 19482/100000: episode: 60, duration: 6.091s, episode steps: 1026, steps per second: 168, episode reward: 7768.000, mean reward: 7.571 [0.000, 11.000], mean action: 0.728 [0.000, 2.000], mean observation: 114.016 [0.000, 255.000], mean_best_reward: --\n",
      " 19580/100000: episode: 61, duration: 0.827s, episode steps: 98, steps per second: 119, episode reward: 0.000, mean reward: 0.000 [0.000, 0.000], mean action: 0.714 [0.000, 2.000], mean observation: 136.033 [0.000, 255.000], mean_best_reward: --\n",
      " 19678/100000: episode: 62, duration: 0.637s, episode steps: 98, steps per second: 154, episode reward: 0.000, mean reward: 0.000 [0.000, 0.000], mean action: 0.643 [0.000, 2.000], mean observation: 173.831 [1.000, 255.000], mean_best_reward: --\n",
      " 19962/100000: episode: 63, duration: 1.670s, episode steps: 284, steps per second: 170, episode reward: 0.000, mean reward: 0.000 [0.000, 0.000], mean action: 1.088 [0.000, 2.000], mean observation: 126.982 [0.000, 255.000], mean_best_reward: --\n",
      " 20246/100000: episode: 64, duration: 1.676s, episode steps: 284, steps per second: 169, episode reward: 0.000, mean reward: 0.000 [0.000, 0.000], mean action: 0.894 [0.000, 2.000], mean observation: 114.887 [0.000, 255.000], mean_best_reward: --\n",
      " 20344/100000: episode: 65, duration: 0.609s, episode steps: 98, steps per second: 161, episode reward: 0.000, mean reward: 0.000 [0.000, 0.000], mean action: 1.408 [0.000, 2.000], mean observation: 137.431 [0.000, 255.000], mean_best_reward: --\n",
      " 20442/100000: episode: 66, duration: 0.596s, episode steps: 98, steps per second: 165, episode reward: 0.000, mean reward: 0.000 [0.000, 0.000], mean action: 0.898 [0.000, 2.000], mean observation: 129.729 [0.000, 255.000], mean_best_reward: --\n",
      " 20540/100000: episode: 67, duration: 0.608s, episode steps: 98, steps per second: 161, episode reward: 0.000, mean reward: 0.000 [0.000, 0.000], mean action: 0.684 [0.000, 2.000], mean observation: 159.886 [1.000, 255.000], mean_best_reward: --\n",
      " 21186/100000: episode: 68, duration: 4.847s, episode steps: 646, steps per second: 133, episode reward: 373.000, mean reward: 0.577 [0.000, 1.000], mean action: 0.633 [0.000, 2.000], mean observation: 126.116 [0.000, 255.000], mean_best_reward: --\n",
      " 21284/100000: episode: 69, duration: 0.639s, episode steps: 98, steps per second: 153, episode reward: 0.000, mean reward: 0.000 [0.000, 0.000], mean action: 0.735 [0.000, 2.000], mean observation: 190.169 [0.000, 255.000], mean_best_reward: --\n",
      " 21568/100000: episode: 70, duration: 1.682s, episode steps: 284, steps per second: 169, episode reward: 0.000, mean reward: 0.000 [0.000, 0.000], mean action: 0.637 [0.000, 2.000], mean observation: 148.211 [1.000, 255.000], mean_best_reward: --\n",
      " 21666/100000: episode: 71, duration: 0.596s, episode steps: 98, steps per second: 165, episode reward: 0.000, mean reward: 0.000 [0.000, 0.000], mean action: 0.735 [0.000, 2.000], mean observation: 146.698 [1.000, 255.000], mean_best_reward: --\n",
      " 22320/100000: episode: 72, duration: 3.825s, episode steps: 654, steps per second: 171, episode reward: 1875.000, mean reward: 2.867 [0.000, 5.000], mean action: 0.760 [0.000, 2.000], mean observation: 129.733 [0.000, 255.000], mean_best_reward: --\n",
      " 22418/100000: episode: 73, duration: 0.598s, episode steps: 98, steps per second: 164, episode reward: 0.000, mean reward: 0.000 [0.000, 0.000], mean action: 1.143 [0.000, 2.000], mean observation: 152.198 [0.000, 255.000], mean_best_reward: --\n",
      " 22516/100000: episode: 74, duration: 0.579s, episode steps: 98, steps per second: 169, episode reward: 0.000, mean reward: 0.000 [0.000, 0.000], mean action: 0.755 [0.000, 2.000], mean observation: 189.055 [0.000, 255.000], mean_best_reward: --\n",
      " 22976/100000: episode: 75, duration: 2.877s, episode steps: 460, steps per second: 160, episode reward: 373.000, mean reward: 0.811 [0.000, 1.000], mean action: 0.670 [0.000, 2.000], mean observation: 136.393 [0.000, 255.000], mean_best_reward: --\n",
      " 23074/100000: episode: 76, duration: 0.659s, episode steps: 98, steps per second: 149, episode reward: 0.000, mean reward: 0.000 [0.000, 0.000], mean action: 1.031 [0.000, 2.000], mean observation: 131.176 [1.000, 255.000], mean_best_reward: --\n",
      " 23172/100000: episode: 77, duration: 0.662s, episode steps: 98, steps per second: 148, episode reward: 0.000, mean reward: 0.000 [0.000, 0.000], mean action: 0.704 [0.000, 2.000], mean observation: 153.949 [0.000, 255.000], mean_best_reward: --\n",
      " 23456/100000: episode: 78, duration: 1.886s, episode steps: 284, steps per second: 151, episode reward: 0.000, mean reward: 0.000 [0.000, 0.000], mean action: 0.595 [0.000, 2.000], mean observation: 141.914 [0.000, 255.000], mean_best_reward: --\n",
      " 23740/100000: episode: 79, duration: 1.918s, episode steps: 284, steps per second: 148, episode reward: 0.000, mean reward: 0.000 [0.000, 0.000], mean action: 0.754 [0.000, 2.000], mean observation: 111.822 [0.000, 255.000], mean_best_reward: --\n",
      " 24218/100000: episode: 80, duration: 3.024s, episode steps: 478, steps per second: 158, episode reward: 3775.000, mean reward: 7.897 [0.000, 10.000], mean action: 0.977 [0.000, 2.000], mean observation: 126.812 [0.000, 255.000], mean_best_reward: --\n",
      " 24316/100000: episode: 81, duration: 0.641s, episode steps: 98, steps per second: 153, episode reward: 0.000, mean reward: 0.000 [0.000, 0.000], mean action: 0.694 [0.000, 2.000], mean observation: 125.967 [0.000, 255.000], mean_best_reward: --\n",
      " 24600/100000: episode: 82, duration: 1.805s, episode steps: 284, steps per second: 157, episode reward: 0.000, mean reward: 0.000 [0.000, 0.000], mean action: 0.979 [0.000, 2.000], mean observation: 108.386 [0.000, 255.000], mean_best_reward: --\n",
      " 25246/100000: episode: 83, duration: 4.295s, episode steps: 646, steps per second: 150, episode reward: 373.000, mean reward: 0.577 [0.000, 1.000], mean action: 0.873 [0.000, 2.000], mean observation: 124.581 [0.000, 255.000], mean_best_reward: --\n",
      " 25344/100000: episode: 84, duration: 0.610s, episode steps: 98, steps per second: 161, episode reward: 0.000, mean reward: 0.000 [0.000, 0.000], mean action: 0.673 [0.000, 2.000], mean observation: 128.547 [0.000, 255.000], mean_best_reward: --\n",
      " 25804/100000: episode: 85, duration: 2.621s, episode steps: 460, steps per second: 176, episode reward: 373.000, mean reward: 0.811 [0.000, 1.000], mean action: 0.880 [0.000, 2.000], mean observation: 127.975 [0.000, 255.000], mean_best_reward: --\n",
      " 26088/100000: episode: 86, duration: 2.010s, episode steps: 284, steps per second: 141, episode reward: 0.000, mean reward: 0.000 [0.000, 0.000], mean action: 1.106 [0.000, 2.000], mean observation: 154.000 [0.000, 255.000], mean_best_reward: --\n",
      " 26372/100000: episode: 87, duration: 3.019s, episode steps: 284, steps per second: 94, episode reward: 0.000, mean reward: 0.000 [0.000, 0.000], mean action: 0.651 [0.000, 2.000], mean observation: 118.740 [0.000, 255.000], mean_best_reward: --\n",
      " 26656/100000: episode: 88, duration: 1.946s, episode steps: 284, steps per second: 146, episode reward: 0.000, mean reward: 0.000 [0.000, 0.000], mean action: 0.842 [0.000, 2.000], mean observation: 128.246 [0.000, 255.000], mean_best_reward: --\n"
     ]
    },
    {
     "name": "stderr",
     "output_type": "stream",
     "text": [
      "2021-12-12 12:59:02.840164: W tensorflow/core/data/root_dataset.cc:163] Optimization loop failed: CANCELLED: Operation was cancelled\n"
     ]
    },
    {
     "name": "stdout",
     "output_type": "stream",
     "text": [
      " 26940/100000: episode: 89, duration: 2.236s, episode steps: 284, steps per second: 127, episode reward: 0.000, mean reward: 0.000 [0.000, 0.000], mean action: 0.722 [0.000, 2.000], mean observation: 113.535 [0.000, 255.000], mean_best_reward: --\n",
      " 27038/100000: episode: 90, duration: 0.828s, episode steps: 98, steps per second: 118, episode reward: 0.000, mean reward: 0.000 [0.000, 0.000], mean action: 0.561 [0.000, 2.000], mean observation: 182.855 [1.000, 255.000], mean_best_reward: --\n"
     ]
    },
    {
     "name": "stderr",
     "output_type": "stream",
     "text": [
      "2021-12-12 12:59:05.973689: W tensorflow/core/data/root_dataset.cc:163] Optimization loop failed: CANCELLED: Operation was cancelled\n"
     ]
    },
    {
     "name": "stdout",
     "output_type": "stream",
     "text": [
      " 27136/100000: episode: 91, duration: 1.229s, episode steps: 98, steps per second: 80, episode reward: 0.000, mean reward: 0.000 [0.000, 0.000], mean action: 0.816 [0.000, 2.000], mean observation: 140.590 [0.000, 255.000], mean_best_reward: --\n",
      " 27596/100000: episode: 92, duration: 3.071s, episode steps: 460, steps per second: 150, episode reward: 373.000, mean reward: 0.811 [0.000, 1.000], mean action: 0.728 [0.000, 2.000], mean observation: 131.545 [0.000, 255.000], mean_best_reward: --\n",
      " 27880/100000: episode: 93, duration: 2.102s, episode steps: 284, steps per second: 135, episode reward: 0.000, mean reward: 0.000 [0.000, 0.000], mean action: 0.641 [0.000, 2.000], mean observation: 145.111 [0.000, 255.000], mean_best_reward: --\n",
      " 28526/100000: episode: 94, duration: 4.773s, episode steps: 646, steps per second: 135, episode reward: 373.000, mean reward: 0.577 [0.000, 1.000], mean action: 0.926 [0.000, 2.000], mean observation: 128.214 [0.000, 255.000], mean_best_reward: --\n",
      " 28810/100000: episode: 95, duration: 1.830s, episode steps: 284, steps per second: 155, episode reward: 0.000, mean reward: 0.000 [0.000, 0.000], mean action: 0.803 [0.000, 2.000], mean observation: 124.969 [0.000, 255.000], mean_best_reward: --\n",
      " 29094/100000: episode: 96, duration: 2.645s, episode steps: 284, steps per second: 107, episode reward: 0.000, mean reward: 0.000 [0.000, 0.000], mean action: 1.398 [0.000, 2.000], mean observation: 131.631 [0.000, 255.000], mean_best_reward: --\n"
     ]
    },
    {
     "name": "stderr",
     "output_type": "stream",
     "text": [
      "2021-12-12 12:59:21.011973: W tensorflow/core/data/root_dataset.cc:163] Optimization loop failed: CANCELLED: Operation was cancelled\n"
     ]
    },
    {
     "name": "stdout",
     "output_type": "stream",
     "text": [
      " 29192/100000: episode: 97, duration: 0.790s, episode steps: 98, steps per second: 124, episode reward: 0.000, mean reward: 0.000 [0.000, 0.000], mean action: 0.694 [0.000, 2.000], mean observation: 119.592 [1.000, 255.000], mean_best_reward: --\n",
      " 29290/100000: episode: 98, duration: 1.043s, episode steps: 98, steps per second: 94, episode reward: 0.000, mean reward: 0.000 [0.000, 0.000], mean action: 1.031 [0.000, 2.000], mean observation: 121.990 [1.000, 255.000], mean_best_reward: --\n"
     ]
    },
    {
     "name": "stderr",
     "output_type": "stream",
     "text": [
      "2021-12-12 12:59:24.733562: W tensorflow/core/data/root_dataset.cc:163] Optimization loop failed: CANCELLED: Operation was cancelled\n"
     ]
    },
    {
     "name": "stdout",
     "output_type": "stream",
     "text": [
      " 29574/100000: episode: 99, duration: 3.138s, episode steps: 284, steps per second: 90, episode reward: 0.000, mean reward: 0.000 [0.000, 0.000], mean action: 0.616 [0.000, 2.000], mean observation: 153.972 [0.000, 255.000], mean_best_reward: --\n",
      " 29858/100000: episode: 100, duration: 2.348s, episode steps: 284, steps per second: 121, episode reward: 0.000, mean reward: 0.000 [0.000, 0.000], mean action: 0.852 [0.000, 2.000], mean observation: 147.561 [0.000, 255.000], mean_best_reward: --\n",
      " 30142/100000: episode: 101, duration: 2.448s, episode steps: 284, steps per second: 116, episode reward: 0.000, mean reward: 0.000 [0.000, 0.000], mean action: 0.835 [0.000, 2.000], mean observation: 149.718 [0.000, 255.000], mean_best_reward: 2074.000000\n",
      " 30240/100000: episode: 102, duration: 1.227s, episode steps: 98, steps per second: 80, episode reward: 0.000, mean reward: 0.000 [0.000, 0.000], mean action: 1.378 [0.000, 2.000], mean observation: 177.388 [1.000, 255.000], mean_best_reward: --\n"
     ]
    },
    {
     "name": "stderr",
     "output_type": "stream",
     "text": [
      "2021-12-12 12:59:31.910735: W tensorflow/core/data/root_dataset.cc:163] Optimization loop failed: CANCELLED: Operation was cancelled\n"
     ]
    },
    {
     "name": "stdout",
     "output_type": "stream",
     "text": [
      " 30338/100000: episode: 103, duration: 1.516s, episode steps: 98, steps per second: 65, episode reward: 0.000, mean reward: 0.000 [0.000, 0.000], mean action: 0.551 [0.000, 2.000], mean observation: 158.200 [1.000, 255.000], mean_best_reward: --\n",
      " 30436/100000: episode: 104, duration: 1.212s, episode steps: 98, steps per second: 81, episode reward: 0.000, mean reward: 0.000 [0.000, 0.000], mean action: 1.031 [0.000, 2.000], mean observation: 134.765 [0.000, 255.000], mean_best_reward: --\n"
     ]
    },
    {
     "name": "stderr",
     "output_type": "stream",
     "text": [
      "2021-12-12 12:59:34.903801: W tensorflow/core/data/root_dataset.cc:163] Optimization loop failed: CANCELLED: Operation was cancelled\n",
      "2021-12-12 12:59:36.506639: W tensorflow/core/data/root_dataset.cc:163] Optimization loop failed: CANCELLED: Operation was cancelled\n"
     ]
    },
    {
     "name": "stdout",
     "output_type": "stream",
     "text": [
      " 30720/100000: episode: 105, duration: 2.872s, episode steps: 284, steps per second: 99, episode reward: 0.000, mean reward: 0.000 [0.000, 0.000], mean action: 1.028 [0.000, 2.000], mean observation: 108.877 [0.000, 255.000], mean_best_reward: --\n",
      " 30818/100000: episode: 106, duration: 1.111s, episode steps: 98, steps per second: 88, episode reward: 0.000, mean reward: 0.000 [0.000, 0.000], mean action: 0.918 [0.000, 2.000], mean observation: 122.580 [1.000, 255.000], mean_best_reward: --\n",
      " 30916/100000: episode: 107, duration: 1.003s, episode steps: 98, steps per second: 98, episode reward: 0.000, mean reward: 0.000 [0.000, 0.000], mean action: 1.469 [0.000, 2.000], mean observation: 185.331 [1.000, 255.000], mean_best_reward: --\n"
     ]
    },
    {
     "name": "stderr",
     "output_type": "stream",
     "text": [
      "2021-12-12 12:59:40.548950: W tensorflow/core/data/root_dataset.cc:163] Optimization loop failed: CANCELLED: Operation was cancelled\n",
      "2021-12-12 12:59:41.133656: W tensorflow/core/data/root_dataset.cc:163] Optimization loop failed: CANCELLED: Operation was cancelled\n",
      "2021-12-12 12:59:41.368386: W tensorflow/core/data/root_dataset.cc:163] Optimization loop failed: CANCELLED: Operation was cancelled\n",
      "2021-12-12 12:59:42.479363: W tensorflow/core/data/root_dataset.cc:163] Optimization loop failed: CANCELLED: Operation was cancelled\n",
      "2021-12-12 12:59:43.021291: W tensorflow/core/data/root_dataset.cc:163] Optimization loop failed: CANCELLED: Operation was cancelled\n",
      "2021-12-12 12:59:43.126659: W tensorflow/core/data/root_dataset.cc:163] Optimization loop failed: CANCELLED: Operation was cancelled\n"
     ]
    },
    {
     "name": "stdout",
     "output_type": "stream",
     "text": [
      " 31200/100000: episode: 108, duration: 3.565s, episode steps: 284, steps per second: 80, episode reward: 0.000, mean reward: 0.000 [0.000, 0.000], mean action: 1.380 [0.000, 2.000], mean observation: 121.088 [0.000, 255.000], mean_best_reward: --\n",
      " 31484/100000: episode: 109, duration: 2.485s, episode steps: 284, steps per second: 114, episode reward: 0.000, mean reward: 0.000 [0.000, 0.000], mean action: 1.113 [0.000, 2.000], mean observation: 117.007 [0.000, 255.000], mean_best_reward: --\n"
     ]
    },
    {
     "name": "stderr",
     "output_type": "stream",
     "text": [
      "2021-12-12 12:59:45.931159: W tensorflow/core/data/root_dataset.cc:163] Optimization loop failed: CANCELLED: Operation was cancelled\n"
     ]
    },
    {
     "name": "stdout",
     "output_type": "stream",
     "text": [
      " 31768/100000: episode: 110, duration: 1.796s, episode steps: 284, steps per second: 158, episode reward: 0.000, mean reward: 0.000 [0.000, 0.000], mean action: 1.306 [0.000, 2.000], mean observation: 138.420 [0.000, 255.000], mean_best_reward: --\n"
     ]
    },
    {
     "name": "stderr",
     "output_type": "stream",
     "text": [
      "2021-12-12 12:59:49.455181: W tensorflow/core/data/root_dataset.cc:163] Optimization loop failed: CANCELLED: Operation was cancelled\n",
      "2021-12-12 12:59:49.586944: W tensorflow/core/data/root_dataset.cc:163] Optimization loop failed: CANCELLED: Operation was cancelled\n"
     ]
    },
    {
     "name": "stdout",
     "output_type": "stream",
     "text": [
      " 32228/100000: episode: 111, duration: 3.554s, episode steps: 460, steps per second: 129, episode reward: 373.000, mean reward: 0.811 [0.000, 1.000], mean action: 0.976 [0.000, 2.000], mean observation: 122.189 [0.000, 255.000], mean_best_reward: --\n",
      " 32874/100000: episode: 112, duration: 5.524s, episode steps: 646, steps per second: 117, episode reward: 373.000, mean reward: 0.577 [0.000, 1.000], mean action: 1.036 [0.000, 2.000], mean observation: 104.602 [0.000, 255.000], mean_best_reward: --\n",
      " 32972/100000: episode: 113, duration: 0.822s, episode steps: 98, steps per second: 119, episode reward: 0.000, mean reward: 0.000 [0.000, 0.000], mean action: 1.010 [0.000, 2.000], mean observation: 150.059 [0.000, 255.000], mean_best_reward: --\n",
      " 33070/100000: episode: 114, duration: 1.313s, episode steps: 98, steps per second: 75, episode reward: 0.000, mean reward: 0.000 [0.000, 0.000], mean action: 1.204 [0.000, 2.000], mean observation: 139.212 [0.000, 255.000], mean_best_reward: --\n",
      " 33354/100000: episode: 115, duration: 3.091s, episode steps: 284, steps per second: 92, episode reward: 0.000, mean reward: 0.000 [0.000, 0.000], mean action: 1.296 [0.000, 2.000], mean observation: 131.159 [0.000, 255.000], mean_best_reward: --\n"
     ]
    },
    {
     "name": "stderr",
     "output_type": "stream",
     "text": [
      "2021-12-12 13:00:04.748723: W tensorflow/core/data/root_dataset.cc:163] Optimization loop failed: CANCELLED: Operation was cancelled\n"
     ]
    },
    {
     "name": "stdout",
     "output_type": "stream",
     "text": [
      " 33814/100000: episode: 116, duration: 4.034s, episode steps: 460, steps per second: 114, episode reward: 373.000, mean reward: 0.811 [0.000, 1.000], mean action: 1.333 [0.000, 2.000], mean observation: 126.199 [0.000, 255.000], mean_best_reward: --\n"
     ]
    },
    {
     "name": "stderr",
     "output_type": "stream",
     "text": [
      "2021-12-12 13:00:06.964161: W tensorflow/core/data/root_dataset.cc:163] Optimization loop failed: CANCELLED: Operation was cancelled\n",
      "2021-12-12 13:00:08.410458: W tensorflow/core/data/root_dataset.cc:163] Optimization loop failed: CANCELLED: Operation was cancelled\n"
     ]
    },
    {
     "name": "stdout",
     "output_type": "stream",
     "text": [
      " 34274/100000: episode: 117, duration: 4.325s, episode steps: 460, steps per second: 106, episode reward: 373.000, mean reward: 0.811 [0.000, 1.000], mean action: 1.087 [0.000, 2.000], mean observation: 119.171 [0.000, 255.000], mean_best_reward: --\n",
      " 34558/100000: episode: 118, duration: 2.817s, episode steps: 284, steps per second: 101, episode reward: 0.000, mean reward: 0.000 [0.000, 0.000], mean action: 0.739 [0.000, 2.000], mean observation: 117.210 [0.000, 255.000], mean_best_reward: --\n",
      " 34842/100000: episode: 119, duration: 1.645s, episode steps: 284, steps per second: 173, episode reward: 0.000, mean reward: 0.000 [0.000, 0.000], mean action: 1.342 [0.000, 2.000], mean observation: 135.939 [0.000, 255.000], mean_best_reward: --\n",
      " 35500/100000: episode: 120, duration: 4.061s, episode steps: 658, steps per second: 162, episode reward: 2632.000, mean reward: 4.000 [0.000, 7.000], mean action: 0.997 [0.000, 2.000], mean observation: 125.002 [0.000, 255.000], mean_best_reward: --\n",
      " 35598/100000: episode: 121, duration: 0.862s, episode steps: 98, steps per second: 114, episode reward: 0.000, mean reward: 0.000 [0.000, 0.000], mean action: 1.255 [0.000, 2.000], mean observation: 164.755 [0.000, 255.000], mean_best_reward: --\n",
      " 35882/100000: episode: 122, duration: 2.242s, episode steps: 284, steps per second: 127, episode reward: 0.000, mean reward: 0.000 [0.000, 0.000], mean action: 1.176 [0.000, 2.000], mean observation: 153.110 [1.000, 255.000], mean_best_reward: --\n"
     ]
    },
    {
     "name": "stderr",
     "output_type": "stream",
     "text": [
      "2021-12-12 13:00:22.882495: W tensorflow/core/data/root_dataset.cc:163] Optimization loop failed: CANCELLED: Operation was cancelled\n",
      "2021-12-12 13:00:24.236599: W tensorflow/core/data/root_dataset.cc:163] Optimization loop failed: CANCELLED: Operation was cancelled\n"
     ]
    },
    {
     "name": "stdout",
     "output_type": "stream",
     "text": [
      " 36166/100000: episode: 123, duration: 2.945s, episode steps: 284, steps per second: 96, episode reward: 0.000, mean reward: 0.000 [0.000, 0.000], mean action: 1.243 [0.000, 2.000], mean observation: 148.323 [0.000, 255.000], mean_best_reward: --\n"
     ]
    },
    {
     "name": "stderr",
     "output_type": "stream",
     "text": [
      "2021-12-12 13:00:28.028332: W tensorflow/core/data/root_dataset.cc:163] Optimization loop failed: CANCELLED: Operation was cancelled\n",
      "2021-12-12 13:00:30.203753: W tensorflow/core/data/root_dataset.cc:163] Optimization loop failed: CANCELLED: Operation was cancelled\n"
     ]
    },
    {
     "name": "stdout",
     "output_type": "stream",
     "text": [
      " 36812/100000: episode: 124, duration: 7.231s, episode steps: 646, steps per second: 89, episode reward: 373.000, mean reward: 0.577 [0.000, 1.000], mean action: 1.246 [0.000, 2.000], mean observation: 112.313 [0.000, 255.000], mean_best_reward: --\n"
     ]
    },
    {
     "name": "stderr",
     "output_type": "stream",
     "text": [
      "2021-12-12 13:00:32.872100: W tensorflow/core/data/root_dataset.cc:163] Optimization loop failed: CANCELLED: Operation was cancelled\n",
      "2021-12-12 13:00:33.179292: W tensorflow/core/data/root_dataset.cc:163] Optimization loop failed: CANCELLED: Operation was cancelled\n",
      "2021-12-12 13:00:34.010175: W tensorflow/core/data/root_dataset.cc:163] Optimization loop failed: CANCELLED: Operation was cancelled\n"
     ]
    },
    {
     "name": "stdout",
     "output_type": "stream",
     "text": [
      " 37096/100000: episode: 125, duration: 2.967s, episode steps: 284, steps per second: 96, episode reward: 0.000, mean reward: 0.000 [0.000, 0.000], mean action: 1.204 [0.000, 2.000], mean observation: 139.224 [0.000, 255.000], mean_best_reward: --\n"
     ]
    },
    {
     "name": "stderr",
     "output_type": "stream",
     "text": [
      "2021-12-12 13:00:37.013898: W tensorflow/core/data/root_dataset.cc:163] Optimization loop failed: CANCELLED: Operation was cancelled\n"
     ]
    },
    {
     "name": "stdout",
     "output_type": "stream",
     "text": [
      " 37380/100000: episode: 126, duration: 3.011s, episode steps: 284, steps per second: 94, episode reward: 0.000, mean reward: 0.000 [0.000, 0.000], mean action: 1.204 [0.000, 2.000], mean observation: 140.268 [1.000, 255.000], mean_best_reward: --\n"
     ]
    },
    {
     "name": "stderr",
     "output_type": "stream",
     "text": [
      "2021-12-12 13:00:38.626622: W tensorflow/core/data/root_dataset.cc:163] Optimization loop failed: CANCELLED: Operation was cancelled\n"
     ]
    },
    {
     "name": "stdout",
     "output_type": "stream",
     "text": [
      " 37478/100000: episode: 127, duration: 1.037s, episode steps: 98, steps per second: 95, episode reward: 0.000, mean reward: 0.000 [0.000, 0.000], mean action: 1.031 [0.000, 2.000], mean observation: 152.088 [0.000, 255.000], mean_best_reward: --\n"
     ]
    },
    {
     "name": "stderr",
     "output_type": "stream",
     "text": [
      "2021-12-12 13:00:43.035172: W tensorflow/core/data/root_dataset.cc:163] Optimization loop failed: CANCELLED: Operation was cancelled\n",
      "2021-12-12 13:00:43.272791: W tensorflow/core/data/root_dataset.cc:163] Optimization loop failed: CANCELLED: Operation was cancelled\n",
      "2021-12-12 13:00:45.615676: W tensorflow/core/data/root_dataset.cc:163] Optimization loop failed: CANCELLED: Operation was cancelled\n"
     ]
    },
    {
     "name": "stdout",
     "output_type": "stream",
     "text": [
      " 38124/100000: episode: 128, duration: 6.875s, episode steps: 646, steps per second: 94, episode reward: 373.000, mean reward: 0.577 [0.000, 1.000], mean action: 1.269 [0.000, 2.000], mean observation: 109.963 [0.000, 255.000], mean_best_reward: --\n"
     ]
    },
    {
     "name": "stderr",
     "output_type": "stream",
     "text": [
      "2021-12-12 13:00:45.977685: W tensorflow/core/data/root_dataset.cc:163] Optimization loop failed: CANCELLED: Operation was cancelled\n",
      "2021-12-12 13:00:46.678956: W tensorflow/core/data/root_dataset.cc:163] Optimization loop failed: CANCELLED: Operation was cancelled\n"
     ]
    },
    {
     "name": "stdout",
     "output_type": "stream",
     "text": [
      " 38222/100000: episode: 129, duration: 1.067s, episode steps: 98, steps per second: 92, episode reward: 0.000, mean reward: 0.000 [0.000, 0.000], mean action: 1.194 [0.000, 2.000], mean observation: 131.563 [0.000, 255.000], mean_best_reward: --\n"
     ]
    },
    {
     "name": "stderr",
     "output_type": "stream",
     "text": [
      "2021-12-12 13:00:47.288144: W tensorflow/core/data/root_dataset.cc:163] Optimization loop failed: CANCELLED: Operation was cancelled\n"
     ]
    },
    {
     "name": "stdout",
     "output_type": "stream",
     "text": [
      " 38506/100000: episode: 130, duration: 3.091s, episode steps: 284, steps per second: 92, episode reward: 0.000, mean reward: 0.000 [0.000, 0.000], mean action: 1.032 [0.000, 2.000], mean observation: 124.925 [0.000, 255.000], mean_best_reward: --\n"
     ]
    },
    {
     "name": "stderr",
     "output_type": "stream",
     "text": [
      "2021-12-12 13:00:50.137437: W tensorflow/core/data/root_dataset.cc:163] Optimization loop failed: CANCELLED: Operation was cancelled\n"
     ]
    },
    {
     "name": "stdout",
     "output_type": "stream",
     "text": [
      " 38790/100000: episode: 131, duration: 2.974s, episode steps: 284, steps per second: 96, episode reward: 0.000, mean reward: 0.000 [0.000, 0.000], mean action: 0.923 [0.000, 2.000], mean observation: 110.761 [0.000, 255.000], mean_best_reward: --\n",
      " 38888/100000: episode: 132, duration: 0.993s, episode steps: 98, steps per second: 99, episode reward: 0.000, mean reward: 0.000 [0.000, 0.000], mean action: 1.378 [0.000, 2.000], mean observation: 135.745 [1.000, 255.000], mean_best_reward: --\n"
     ]
    },
    {
     "name": "stderr",
     "output_type": "stream",
     "text": [
      "2021-12-12 13:00:54.602397: W tensorflow/core/data/root_dataset.cc:163] Optimization loop failed: CANCELLED: Operation was cancelled\n",
      "2021-12-12 13:00:54.927474: W tensorflow/core/data/root_dataset.cc:163] Optimization loop failed: CANCELLED: Operation was cancelled\n",
      "2021-12-12 13:00:55.213267: W tensorflow/core/data/root_dataset.cc:163] Optimization loop failed: CANCELLED: Operation was cancelled\n",
      "2021-12-12 13:00:56.344100: W tensorflow/core/data/root_dataset.cc:163] Optimization loop failed: CANCELLED: Operation was cancelled\n",
      "2021-12-12 13:00:57.906951: W tensorflow/core/data/root_dataset.cc:163] Optimization loop failed: CANCELLED: Operation was cancelled\n",
      "2021-12-12 13:00:58.990169: W tensorflow/core/data/root_dataset.cc:163] Optimization loop failed: CANCELLED: Operation was cancelled\n"
     ]
    },
    {
     "name": "stdout",
     "output_type": "stream",
     "text": [
      " 39534/100000: episode: 133, duration: 6.839s, episode steps: 646, steps per second: 94, episode reward: 373.000, mean reward: 0.577 [0.000, 1.000], mean action: 1.068 [0.000, 2.000], mean observation: 131.764 [0.000, 255.000], mean_best_reward: --\n",
      " 39818/100000: episode: 134, duration: 3.009s, episode steps: 284, steps per second: 94, episode reward: 0.000, mean reward: 0.000 [0.000, 0.000], mean action: 1.183 [0.000, 2.000], mean observation: 146.248 [0.000, 255.000], mean_best_reward: --\n",
      " 40278/100000: episode: 135, duration: 4.721s, episode steps: 460, steps per second: 97, episode reward: 373.000, mean reward: 0.811 [0.000, 1.000], mean action: 1.139 [0.000, 2.000], mean observation: 125.608 [0.000, 255.000], mean_best_reward: --\n",
      " 40562/100000: episode: 136, duration: 2.195s, episode steps: 284, steps per second: 129, episode reward: 0.000, mean reward: 0.000 [0.000, 0.000], mean action: 1.243 [0.000, 2.000], mean observation: 154.239 [0.000, 255.000], mean_best_reward: --\n",
      " 40660/100000: episode: 137, duration: 0.822s, episode steps: 98, steps per second: 119, episode reward: 0.000, mean reward: 0.000 [0.000, 0.000], mean action: 1.357 [0.000, 2.000], mean observation: 187.000 [1.000, 255.000], mean_best_reward: --\n"
     ]
    },
    {
     "name": "stderr",
     "output_type": "stream",
     "text": [
      "2021-12-12 13:01:17.021088: W tensorflow/core/data/root_dataset.cc:163] Optimization loop failed: CANCELLED: Operation was cancelled\n",
      "2021-12-12 13:01:17.278748: W tensorflow/core/data/root_dataset.cc:163] Optimization loop failed: CANCELLED: Operation was cancelled\n"
     ]
    },
    {
     "name": "stdout",
     "output_type": "stream",
     "text": [
      " 41482/100000: episode: 138, duration: 7.546s, episode steps: 822, steps per second: 109, episode reward: 1108.000, mean reward: 1.348 [0.000, 2.000], mean action: 1.010 [0.000, 2.000], mean observation: 98.545 [0.000, 255.000], mean_best_reward: --\n",
      " 41766/100000: episode: 139, duration: 3.077s, episode steps: 284, steps per second: 92, episode reward: 0.000, mean reward: 0.000 [0.000, 0.000], mean action: 0.979 [0.000, 2.000], mean observation: 142.175 [0.000, 255.000], mean_best_reward: --\n"
     ]
    },
    {
     "name": "stderr",
     "output_type": "stream",
     "text": [
      "2021-12-12 13:01:22.823380: W tensorflow/core/data/root_dataset.cc:163] Optimization loop failed: CANCELLED: Operation was cancelled\n"
     ]
    },
    {
     "name": "stdout",
     "output_type": "stream",
     "text": [
      " 42050/100000: episode: 140, duration: 2.920s, episode steps: 284, steps per second: 97, episode reward: 0.000, mean reward: 0.000 [0.000, 0.000], mean action: 1.331 [0.000, 2.000], mean observation: 137.924 [0.000, 255.000], mean_best_reward: --\n",
      " 42334/100000: episode: 141, duration: 1.927s, episode steps: 284, steps per second: 147, episode reward: 0.000, mean reward: 0.000 [0.000, 0.000], mean action: 1.285 [0.000, 2.000], mean observation: 121.513 [0.000, 255.000], mean_best_reward: --\n",
      " 42618/100000: episode: 142, duration: 2.558s, episode steps: 284, steps per second: 111, episode reward: 0.000, mean reward: 0.000 [0.000, 0.000], mean action: 1.454 [0.000, 2.000], mean observation: 111.159 [0.000, 255.000], mean_best_reward: --\n",
      " 42716/100000: episode: 143, duration: 0.621s, episode steps: 98, steps per second: 158, episode reward: 0.000, mean reward: 0.000 [0.000, 0.000], mean action: 1.224 [0.000, 2.000], mean observation: 148.496 [1.000, 255.000], mean_best_reward: --\n",
      " 42814/100000: episode: 144, duration: 0.620s, episode steps: 98, steps per second: 158, episode reward: 0.000, mean reward: 0.000 [0.000, 0.000], mean action: 1.071 [0.000, 2.000], mean observation: 153.276 [1.000, 255.000], mean_best_reward: --\n",
      " 42912/100000: episode: 145, duration: 0.627s, episode steps: 98, steps per second: 156, episode reward: 0.000, mean reward: 0.000 [0.000, 0.000], mean action: 0.929 [0.000, 2.000], mean observation: 152.341 [1.000, 255.000], mean_best_reward: --\n",
      " 43010/100000: episode: 146, duration: 0.990s, episode steps: 98, steps per second: 99, episode reward: 0.000, mean reward: 0.000 [0.000, 0.000], mean action: 1.112 [0.000, 2.000], mean observation: 126.557 [0.000, 255.000], mean_best_reward: --\n",
      " 43470/100000: episode: 147, duration: 4.022s, episode steps: 460, steps per second: 114, episode reward: 373.000, mean reward: 0.811 [0.000, 1.000], mean action: 0.889 [0.000, 2.000], mean observation: 115.257 [0.000, 255.000], mean_best_reward: --\n"
     ]
    },
    {
     "name": "stderr",
     "output_type": "stream",
     "text": [
      "2021-12-12 13:01:37.665788: W tensorflow/core/data/root_dataset.cc:163] Optimization loop failed: CANCELLED: Operation was cancelled\n"
     ]
    },
    {
     "name": "stdout",
     "output_type": "stream",
     "text": [
      " 43754/100000: episode: 148, duration: 2.666s, episode steps: 284, steps per second: 107, episode reward: 0.000, mean reward: 0.000 [0.000, 0.000], mean action: 1.018 [0.000, 2.000], mean observation: 121.374 [0.000, 255.000], mean_best_reward: --\n"
     ]
    },
    {
     "name": "stderr",
     "output_type": "stream",
     "text": [
      "2021-12-12 13:01:40.694986: W tensorflow/core/data/root_dataset.cc:163] Optimization loop failed: CANCELLED: Operation was cancelled\n",
      "2021-12-12 13:01:41.043737: W tensorflow/core/data/root_dataset.cc:163] Optimization loop failed: CANCELLED: Operation was cancelled\n",
      "2021-12-12 13:01:41.203765: W tensorflow/core/data/root_dataset.cc:163] Optimization loop failed: CANCELLED: Operation was cancelled\n"
     ]
    },
    {
     "name": "stdout",
     "output_type": "stream",
     "text": [
      " 44038/100000: episode: 149, duration: 2.619s, episode steps: 284, steps per second: 108, episode reward: 0.000, mean reward: 0.000 [0.000, 0.000], mean action: 0.708 [0.000, 2.000], mean observation: 120.239 [1.000, 255.000], mean_best_reward: --\n"
     ]
    },
    {
     "name": "stderr",
     "output_type": "stream",
     "text": [
      "2021-12-12 13:01:41.900765: W tensorflow/core/data/root_dataset.cc:163] Optimization loop failed: CANCELLED: Operation was cancelled\n",
      "2021-12-12 13:01:43.118456: W tensorflow/core/data/root_dataset.cc:163] Optimization loop failed: CANCELLED: Operation was cancelled\n",
      "2021-12-12 13:01:44.431596: W tensorflow/core/data/root_dataset.cc:163] Optimization loop failed: CANCELLED: Operation was cancelled\n",
      "2021-12-12 13:01:46.434425: W tensorflow/core/data/root_dataset.cc:163] Optimization loop failed: CANCELLED: Operation was cancelled\n"
     ]
    },
    {
     "name": "stdout",
     "output_type": "stream",
     "text": [
      " 44686/100000: episode: 150, duration: 5.481s, episode steps: 648, steps per second: 118, episode reward: 747.000, mean reward: 1.153 [0.000, 2.000], mean action: 1.309 [0.000, 2.000], mean observation: 117.693 [0.000, 255.000], mean_best_reward: --\n"
     ]
    },
    {
     "name": "stderr",
     "output_type": "stream",
     "text": [
      "2021-12-12 13:01:48.498793: W tensorflow/core/data/root_dataset.cc:163] Optimization loop failed: CANCELLED: Operation was cancelled\n"
     ]
    },
    {
     "name": "stdout",
     "output_type": "stream",
     "text": [
      " 44970/100000: episode: 151, duration: 2.558s, episode steps: 284, steps per second: 111, episode reward: 0.000, mean reward: 0.000 [0.000, 0.000], mean action: 0.923 [0.000, 2.000], mean observation: 151.848 [0.000, 255.000], mean_best_reward: 1108.000000\n",
      " 45254/100000: episode: 152, duration: 2.977s, episode steps: 284, steps per second: 95, episode reward: 0.000, mean reward: 0.000 [0.000, 0.000], mean action: 0.996 [0.000, 2.000], mean observation: 112.644 [0.000, 255.000], mean_best_reward: --\n",
      " 45900/100000: episode: 153, duration: 5.850s, episode steps: 646, steps per second: 110, episode reward: 373.000, mean reward: 0.577 [0.000, 1.000], mean action: 1.025 [0.000, 2.000], mean observation: 107.126 [0.000, 255.000], mean_best_reward: --\n",
      " 45998/100000: episode: 154, duration: 0.757s, episode steps: 98, steps per second: 129, episode reward: 0.000, mean reward: 0.000 [0.000, 0.000], mean action: 0.704 [0.000, 2.000], mean observation: 158.510 [1.000, 255.000], mean_best_reward: --\n",
      " 46096/100000: episode: 155, duration: 0.678s, episode steps: 98, steps per second: 145, episode reward: 0.000, mean reward: 0.000 [0.000, 0.000], mean action: 1.133 [0.000, 2.000], mean observation: 123.329 [0.000, 255.000], mean_best_reward: --\n",
      " 46380/100000: episode: 156, duration: 2.316s, episode steps: 284, steps per second: 123, episode reward: 0.000, mean reward: 0.000 [0.000, 0.000], mean action: 1.102 [0.000, 2.000], mean observation: 142.541 [0.000, 255.000], mean_best_reward: --\n",
      " 46478/100000: episode: 157, duration: 0.754s, episode steps: 98, steps per second: 130, episode reward: 0.000, mean reward: 0.000 [0.000, 0.000], mean action: 0.745 [0.000, 2.000], mean observation: 127.555 [1.000, 255.000], mean_best_reward: --\n",
      " 46762/100000: episode: 158, duration: 2.136s, episode steps: 284, steps per second: 133, episode reward: 0.000, mean reward: 0.000 [0.000, 0.000], mean action: 1.063 [0.000, 2.000], mean observation: 102.773 [0.000, 255.000], mean_best_reward: --\n",
      " 47046/100000: episode: 159, duration: 2.989s, episode steps: 284, steps per second: 95, episode reward: 0.000, mean reward: 0.000 [0.000, 0.000], mean action: 0.996 [0.000, 2.000], mean observation: 128.460 [0.000, 255.000], mean_best_reward: --\n"
     ]
    },
    {
     "name": "stderr",
     "output_type": "stream",
     "text": [
      "2021-12-12 13:02:08.335906: W tensorflow/core/data/root_dataset.cc:163] Optimization loop failed: CANCELLED: Operation was cancelled\n",
      "2021-12-12 13:02:09.407809: W tensorflow/core/data/root_dataset.cc:163] Optimization loop failed: CANCELLED: Operation was cancelled\n",
      "2021-12-12 13:02:09.444143: W tensorflow/core/data/root_dataset.cc:163] Optimization loop failed: CANCELLED: Operation was cancelled\n",
      "2021-12-12 13:02:09.487499: W tensorflow/core/data/root_dataset.cc:163] Optimization loop failed: CANCELLED: Operation was cancelled\n",
      "2021-12-12 13:02:09.584857: W tensorflow/core/data/root_dataset.cc:163] Optimization loop failed: CANCELLED: Operation was cancelled\n",
      "2021-12-12 13:02:09.645183: W tensorflow/core/data/root_dataset.cc:163] Optimization loop failed: CANCELLED: Operation was cancelled\n"
     ]
    },
    {
     "name": "stdout",
     "output_type": "stream",
     "text": [
      " 47330/100000: episode: 160, duration: 2.361s, episode steps: 284, steps per second: 120, episode reward: 0.000, mean reward: 0.000 [0.000, 0.000], mean action: 0.979 [0.000, 2.000], mean observation: 113.259 [0.000, 255.000], mean_best_reward: --\n"
     ]
    },
    {
     "name": "stderr",
     "output_type": "stream",
     "text": [
      "2021-12-12 13:02:11.601250: W tensorflow/core/data/root_dataset.cc:163] Optimization loop failed: CANCELLED: Operation was cancelled\n",
      "2021-12-12 13:02:11.792728: W tensorflow/core/data/root_dataset.cc:163] Optimization loop failed: CANCELLED: Operation was cancelled\n",
      "2021-12-12 13:02:12.544389: W tensorflow/core/data/root_dataset.cc:163] Optimization loop failed: CANCELLED: Operation was cancelled\n",
      "2021-12-12 13:02:12.614477: W tensorflow/core/data/root_dataset.cc:163] Optimization loop failed: CANCELLED: Operation was cancelled\n",
      "2021-12-12 13:02:12.687392: W tensorflow/core/data/root_dataset.cc:163] Optimization loop failed: CANCELLED: Operation was cancelled\n",
      "2021-12-12 13:02:12.731307: W tensorflow/core/data/root_dataset.cc:163] Optimization loop failed: CANCELLED: Operation was cancelled\n"
     ]
    },
    {
     "name": "stdout",
     "output_type": "stream",
     "text": [
      " 47614/100000: episode: 161, duration: 3.077s, episode steps: 284, steps per second: 92, episode reward: 0.000, mean reward: 0.000 [0.000, 0.000], mean action: 0.958 [0.000, 2.000], mean observation: 127.742 [0.000, 255.000], mean_best_reward: --\n"
     ]
    },
    {
     "name": "stderr",
     "output_type": "stream",
     "text": [
      "2021-12-12 13:02:13.774725: W tensorflow/core/data/root_dataset.cc:163] Optimization loop failed: CANCELLED: Operation was cancelled\n"
     ]
    },
    {
     "name": "stdout",
     "output_type": "stream",
     "text": [
      " 47898/100000: episode: 162, duration: 2.880s, episode steps: 284, steps per second: 99, episode reward: 0.000, mean reward: 0.000 [0.000, 0.000], mean action: 1.007 [0.000, 2.000], mean observation: 143.069 [1.000, 255.000], mean_best_reward: --\n"
     ]
    },
    {
     "name": "stderr",
     "output_type": "stream",
     "text": [
      "2021-12-12 13:02:18.329411: W tensorflow/core/data/root_dataset.cc:163] Optimization loop failed: CANCELLED: Operation was cancelled\n"
     ]
    },
    {
     "name": "stdout",
     "output_type": "stream",
     "text": [
      " 48182/100000: episode: 163, duration: 2.391s, episode steps: 284, steps per second: 119, episode reward: 0.000, mean reward: 0.000 [0.000, 0.000], mean action: 0.630 [0.000, 2.000], mean observation: 134.134 [0.000, 255.000], mean_best_reward: --\n",
      " 48466/100000: episode: 164, duration: 2.062s, episode steps: 284, steps per second: 138, episode reward: 0.000, mean reward: 0.000 [0.000, 0.000], mean action: 1.025 [0.000, 2.000], mean observation: 131.175 [0.000, 255.000], mean_best_reward: --\n"
     ]
    },
    {
     "name": "stderr",
     "output_type": "stream",
     "text": [
      "2021-12-12 13:02:21.434444: W tensorflow/core/data/root_dataset.cc:163] Optimization loop failed: CANCELLED: Operation was cancelled\n"
     ]
    },
    {
     "name": "stdout",
     "output_type": "stream",
     "text": [
      " 49122/100000: episode: 165, duration: 5.225s, episode steps: 656, steps per second: 126, episode reward: 2253.000, mean reward: 3.434 [0.000, 6.000], mean action: 1.002 [0.000, 2.000], mean observation: 111.432 [0.000, 255.000], mean_best_reward: --\n",
      " 49220/100000: episode: 166, duration: 0.753s, episode steps: 98, steps per second: 130, episode reward: 0.000, mean reward: 0.000 [0.000, 0.000], mean action: 0.969 [0.000, 2.000], mean observation: 130.918 [0.000, 255.000], mean_best_reward: --\n",
      " 50042/100000: episode: 167, duration: 5.773s, episode steps: 822, steps per second: 142, episode reward: 1108.000, mean reward: 1.348 [0.000, 2.000], mean action: 1.063 [0.000, 2.000], mean observation: 101.497 [0.000, 255.000], mean_best_reward: --\n",
      " 50140/100000: episode: 168, duration: 0.936s, episode steps: 98, steps per second: 105, episode reward: 0.000, mean reward: 0.000 [0.000, 0.000], mean action: 1.112 [0.000, 2.000], mean observation: 171.239 [1.000, 255.000], mean_best_reward: --\n"
     ]
    },
    {
     "name": "stderr",
     "output_type": "stream",
     "text": [
      "2021-12-12 13:02:34.344821: W tensorflow/core/data/root_dataset.cc:163] Optimization loop failed: CANCELLED: Operation was cancelled\n"
     ]
    },
    {
     "name": "stdout",
     "output_type": "stream",
     "text": [
      " 50424/100000: episode: 169, duration: 2.699s, episode steps: 284, steps per second: 105, episode reward: 0.000, mean reward: 0.000 [0.000, 0.000], mean action: 1.021 [0.000, 2.000], mean observation: 110.196 [0.000, 255.000], mean_best_reward: --\n"
     ]
    },
    {
     "name": "stderr",
     "output_type": "stream",
     "text": [
      "2021-12-12 13:02:37.135010: W tensorflow/core/data/root_dataset.cc:163] Optimization loop failed: CANCELLED: Operation was cancelled\n"
     ]
    },
    {
     "name": "stdout",
     "output_type": "stream",
     "text": [
      " 50708/100000: episode: 170, duration: 2.136s, episode steps: 284, steps per second: 133, episode reward: 0.000, mean reward: 0.000 [0.000, 0.000], mean action: 1.063 [0.000, 2.000], mean observation: 130.700 [0.000, 255.000], mean_best_reward: --\n",
      " 50806/100000: episode: 171, duration: 0.697s, episode steps: 98, steps per second: 141, episode reward: 0.000, mean reward: 0.000 [0.000, 0.000], mean action: 1.214 [0.000, 2.000], mean observation: 195.210 [0.000, 255.000], mean_best_reward: --\n"
     ]
    },
    {
     "name": "stderr",
     "output_type": "stream",
     "text": [
      "2021-12-12 13:02:39.844716: W tensorflow/core/data/root_dataset.cc:163] Optimization loop failed: CANCELLED: Operation was cancelled\n"
     ]
    },
    {
     "name": "stdout",
     "output_type": "stream",
     "text": [
      " 51090/100000: episode: 172, duration: 1.807s, episode steps: 284, steps per second: 157, episode reward: 0.000, mean reward: 0.000 [0.000, 0.000], mean action: 1.049 [0.000, 2.000], mean observation: 109.592 [0.000, 255.000], mean_best_reward: --\n"
     ]
    },
    {
     "name": "stderr",
     "output_type": "stream",
     "text": [
      "2021-12-12 13:02:42.724736: W tensorflow/core/data/root_dataset.cc:163] Optimization loop failed: CANCELLED: Operation was cancelled\n"
     ]
    },
    {
     "name": "stdout",
     "output_type": "stream",
     "text": [
      " 51374/100000: episode: 173, duration: 3.816s, episode steps: 284, steps per second: 74, episode reward: 0.000, mean reward: 0.000 [0.000, 0.000], mean action: 1.306 [0.000, 2.000], mean observation: 141.914 [0.000, 255.000], mean_best_reward: --\n",
      " 51472/100000: episode: 174, duration: 0.961s, episode steps: 98, steps per second: 102, episode reward: 0.000, mean reward: 0.000 [0.000, 0.000], mean action: 1.031 [0.000, 2.000], mean observation: 175.537 [1.000, 255.000], mean_best_reward: --\n",
      " 51756/100000: episode: 175, duration: 3.273s, episode steps: 284, steps per second: 87, episode reward: 0.000, mean reward: 0.000 [0.000, 0.000], mean action: 1.028 [0.000, 2.000], mean observation: 97.489 [0.000, 255.000], mean_best_reward: --\n"
     ]
    },
    {
     "name": "stderr",
     "output_type": "stream",
     "text": [
      "2021-12-12 13:02:50.094553: W tensorflow/core/data/root_dataset.cc:163] Optimization loop failed: CANCELLED: Operation was cancelled\n"
     ]
    },
    {
     "name": "stdout",
     "output_type": "stream",
     "text": [
      " 52040/100000: episode: 176, duration: 2.939s, episode steps: 284, steps per second: 97, episode reward: 0.000, mean reward: 0.000 [0.000, 0.000], mean action: 1.021 [0.000, 2.000], mean observation: 149.368 [1.000, 255.000], mean_best_reward: --\n"
     ]
    },
    {
     "name": "stderr",
     "output_type": "stream",
     "text": [
      "2021-12-12 13:02:54.253599: W tensorflow/core/data/root_dataset.cc:163] Optimization loop failed: CANCELLED: Operation was cancelled\n"
     ]
    },
    {
     "name": "stdout",
     "output_type": "stream",
     "text": [
      " 52324/100000: episode: 177, duration: 3.087s, episode steps: 284, steps per second: 92, episode reward: 0.000, mean reward: 0.000 [0.000, 0.000], mean action: 0.986 [0.000, 2.000], mean observation: 110.565 [0.000, 255.000], mean_best_reward: --\n",
      " 52784/100000: episode: 178, duration: 3.710s, episode steps: 460, steps per second: 124, episode reward: 373.000, mean reward: 0.811 [0.000, 1.000], mean action: 0.726 [0.000, 2.000], mean observation: 124.203 [0.000, 255.000], mean_best_reward: --\n",
      " 53606/100000: episode: 179, duration: 6.258s, episode steps: 822, steps per second: 131, episode reward: 1108.000, mean reward: 1.348 [0.000, 2.000], mean action: 1.124 [0.000, 2.000], mean observation: 103.850 [0.000, 255.000], mean_best_reward: --\n",
      " 54252/100000: episode: 180, duration: 3.795s, episode steps: 646, steps per second: 170, episode reward: 373.000, mean reward: 0.577 [0.000, 1.000], mean action: 1.045 [0.000, 2.000], mean observation: 105.684 [0.000, 255.000], mean_best_reward: --\n",
      " 54350/100000: episode: 181, duration: 0.688s, episode steps: 98, steps per second: 143, episode reward: 0.000, mean reward: 0.000 [0.000, 0.000], mean action: 1.214 [0.000, 2.000], mean observation: 178.392 [1.000, 255.000], mean_best_reward: --\n",
      " 54634/100000: episode: 182, duration: 2.021s, episode steps: 284, steps per second: 141, episode reward: 0.000, mean reward: 0.000 [0.000, 0.000], mean action: 1.056 [0.000, 2.000], mean observation: 105.642 [0.000, 255.000], mean_best_reward: --\n",
      " 54732/100000: episode: 183, duration: 0.651s, episode steps: 98, steps per second: 150, episode reward: 0.000, mean reward: 0.000 [0.000, 0.000], mean action: 1.000 [0.000, 2.000], mean observation: 154.498 [1.000, 255.000], mean_best_reward: --\n",
      " 54830/100000: episode: 184, duration: 0.644s, episode steps: 98, steps per second: 152, episode reward: 0.000, mean reward: 0.000 [0.000, 0.000], mean action: 1.133 [0.000, 2.000], mean observation: 130.408 [0.000, 255.000], mean_best_reward: --\n",
      " 54928/100000: episode: 185, duration: 0.630s, episode steps: 98, steps per second: 155, episode reward: 0.000, mean reward: 0.000 [0.000, 0.000], mean action: 0.878 [0.000, 2.000], mean observation: 128.088 [0.000, 255.000], mean_best_reward: --\n",
      " 55574/100000: episode: 186, duration: 4.583s, episode steps: 646, steps per second: 141, episode reward: 373.000, mean reward: 0.577 [0.000, 1.000], mean action: 1.080 [0.000, 2.000], mean observation: 104.408 [0.000, 255.000], mean_best_reward: --\n",
      " 55858/100000: episode: 187, duration: 3.270s, episode steps: 284, steps per second: 87, episode reward: 0.000, mean reward: 0.000 [0.000, 0.000], mean action: 0.775 [0.000, 2.000], mean observation: 118.382 [0.000, 255.000], mean_best_reward: --\n",
      " 56142/100000: episode: 188, duration: 2.195s, episode steps: 284, steps per second: 129, episode reward: 0.000, mean reward: 0.000 [0.000, 0.000], mean action: 1.035 [0.000, 2.000], mean observation: 99.432 [0.000, 255.000], mean_best_reward: --\n",
      " 56240/100000: episode: 189, duration: 0.643s, episode steps: 98, steps per second: 152, episode reward: 0.000, mean reward: 0.000 [0.000, 0.000], mean action: 1.041 [0.000, 2.000], mean observation: 169.876 [1.000, 255.000], mean_best_reward: --\n",
      " 56524/100000: episode: 190, duration: 1.931s, episode steps: 284, steps per second: 147, episode reward: 0.000, mean reward: 0.000 [0.000, 0.000], mean action: 0.880 [0.000, 2.000], mean observation: 125.539 [0.000, 255.000], mean_best_reward: --\n",
      " 56622/100000: episode: 191, duration: 0.672s, episode steps: 98, steps per second: 146, episode reward: 0.000, mean reward: 0.000 [0.000, 0.000], mean action: 0.969 [0.000, 2.000], mean observation: 124.443 [0.000, 255.000], mean_best_reward: --\n",
      " 56906/100000: episode: 192, duration: 1.870s, episode steps: 284, steps per second: 152, episode reward: 0.000, mean reward: 0.000 [0.000, 0.000], mean action: 0.930 [0.000, 2.000], mean observation: 107.092 [0.000, 255.000], mean_best_reward: --\n"
     ]
    },
    {
     "name": "stderr",
     "output_type": "stream",
     "text": [
      "2021-12-12 13:03:28.854088: W tensorflow/core/data/root_dataset.cc:163] Optimization loop failed: CANCELLED: Operation was cancelled\n",
      "2021-12-12 13:03:30.605717: W tensorflow/core/data/root_dataset.cc:163] Optimization loop failed: CANCELLED: Operation was cancelled\n",
      "2021-12-12 13:03:30.667815: W tensorflow/core/data/root_dataset.cc:163] Optimization loop failed: CANCELLED: Operation was cancelled\n",
      "2021-12-12 13:03:30.750314: W tensorflow/core/data/root_dataset.cc:163] Optimization loop failed: CANCELLED: Operation was cancelled\n",
      "2021-12-12 13:03:30.804534: W tensorflow/core/data/root_dataset.cc:163] Optimization loop failed: CANCELLED: Operation was cancelled\n"
     ]
    },
    {
     "name": "stdout",
     "output_type": "stream",
     "text": [
      " 57190/100000: episode: 193, duration: 2.383s, episode steps: 284, steps per second: 119, episode reward: 0.000, mean reward: 0.000 [0.000, 0.000], mean action: 1.356 [0.000, 2.000], mean observation: 146.894 [0.000, 255.000], mean_best_reward: --\n",
      " 57288/100000: episode: 194, duration: 0.841s, episode steps: 98, steps per second: 117, episode reward: 0.000, mean reward: 0.000 [0.000, 0.000], mean action: 1.010 [0.000, 2.000], mean observation: 173.159 [1.000, 255.000], mean_best_reward: --\n"
     ]
    },
    {
     "name": "stderr",
     "output_type": "stream",
     "text": [
      "2021-12-12 13:03:32.803762: W tensorflow/core/data/root_dataset.cc:163] Optimization loop failed: CANCELLED: Operation was cancelled\n",
      "2021-12-12 13:03:32.833634: W tensorflow/core/data/root_dataset.cc:163] Optimization loop failed: CANCELLED: Operation was cancelled\n",
      "2021-12-12 13:03:34.061175: W tensorflow/core/data/root_dataset.cc:163] Optimization loop failed: CANCELLED: Operation was cancelled\n"
     ]
    },
    {
     "name": "stdout",
     "output_type": "stream",
     "text": [
      " 57572/100000: episode: 195, duration: 2.485s, episode steps: 284, steps per second: 114, episode reward: 0.000, mean reward: 0.000 [0.000, 0.000], mean action: 1.000 [0.000, 2.000], mean observation: 103.019 [1.000, 255.000], mean_best_reward: --\n",
      " 57856/100000: episode: 196, duration: 2.883s, episode steps: 284, steps per second: 99, episode reward: 0.000, mean reward: 0.000 [0.000, 0.000], mean action: 1.035 [0.000, 2.000], mean observation: 109.350 [0.000, 255.000], mean_best_reward: --\n"
     ]
    },
    {
     "name": "stderr",
     "output_type": "stream",
     "text": [
      "2021-12-12 13:03:38.520405: W tensorflow/core/data/root_dataset.cc:163] Optimization loop failed: CANCELLED: Operation was cancelled\n",
      "2021-12-12 13:03:38.569598: W tensorflow/core/data/root_dataset.cc:163] Optimization loop failed: CANCELLED: Operation was cancelled\n",
      "2021-12-12 13:03:39.834964: W tensorflow/core/data/root_dataset.cc:163] Optimization loop failed: CANCELLED: Operation was cancelled\n",
      "2021-12-12 13:03:42.169920: W tensorflow/core/data/root_dataset.cc:163] Optimization loop failed: CANCELLED: Operation was cancelled\n",
      "2021-12-12 13:03:43.383980: W tensorflow/core/data/root_dataset.cc:163] Optimization loop failed: CANCELLED: Operation was cancelled\n"
     ]
    },
    {
     "name": "stdout",
     "output_type": "stream",
     "text": [
      " 58678/100000: episode: 197, duration: 6.326s, episode steps: 822, steps per second: 130, episode reward: 1108.000, mean reward: 1.348 [0.000, 2.000], mean action: 0.886 [0.000, 2.000], mean observation: 104.103 [0.000, 255.000], mean_best_reward: --\n",
      " 58962/100000: episode: 198, duration: 1.957s, episode steps: 284, steps per second: 145, episode reward: 0.000, mean reward: 0.000 [0.000, 0.000], mean action: 1.053 [0.000, 2.000], mean observation: 114.357 [0.000, 255.000], mean_best_reward: --\n",
      " 59246/100000: episode: 199, duration: 2.001s, episode steps: 284, steps per second: 142, episode reward: 0.000, mean reward: 0.000 [0.000, 0.000], mean action: 0.982 [0.000, 2.000], mean observation: 112.981 [0.000, 255.000], mean_best_reward: --\n",
      " 59530/100000: episode: 200, duration: 1.786s, episode steps: 284, steps per second: 159, episode reward: 0.000, mean reward: 0.000 [0.000, 0.000], mean action: 1.011 [0.000, 2.000], mean observation: 107.999 [0.000, 255.000], mean_best_reward: --\n",
      " 59628/100000: episode: 201, duration: 0.562s, episode steps: 98, steps per second: 174, episode reward: 0.000, mean reward: 0.000 [0.000, 0.000], mean action: 0.959 [0.000, 2.000], mean observation: 175.633 [1.000, 255.000], mean_best_reward: 740.500000\n",
      " 60450/100000: episode: 202, duration: 5.299s, episode steps: 822, steps per second: 155, episode reward: 1108.000, mean reward: 1.348 [0.000, 2.000], mean action: 1.057 [0.000, 2.000], mean observation: 98.555 [0.000, 255.000], mean_best_reward: --\n",
      " 60548/100000: episode: 203, duration: 0.974s, episode steps: 98, steps per second: 101, episode reward: 0.000, mean reward: 0.000 [0.000, 0.000], mean action: 1.041 [0.000, 2.000], mean observation: 173.122 [1.000, 255.000], mean_best_reward: --\n"
     ]
    },
    {
     "name": "stderr",
     "output_type": "stream",
     "text": [
      "2021-12-12 13:03:57.689481: W tensorflow/core/data/root_dataset.cc:163] Optimization loop failed: CANCELLED: Operation was cancelled\n"
     ]
    },
    {
     "name": "stdout",
     "output_type": "stream",
     "text": [
      " 60832/100000: episode: 204, duration: 2.307s, episode steps: 284, steps per second: 123, episode reward: 0.000, mean reward: 0.000 [0.000, 0.000], mean action: 1.011 [0.000, 2.000], mean observation: 110.148 [0.000, 255.000], mean_best_reward: --\n"
     ]
    },
    {
     "name": "stderr",
     "output_type": "stream",
     "text": [
      "2021-12-12 13:04:00.632247: W tensorflow/core/data/root_dataset.cc:163] Optimization loop failed: CANCELLED: Operation was cancelled\n"
     ]
    },
    {
     "name": "stdout",
     "output_type": "stream",
     "text": [
      " 61116/100000: episode: 205, duration: 2.475s, episode steps: 284, steps per second: 115, episode reward: 0.000, mean reward: 0.000 [0.000, 0.000], mean action: 0.972 [0.000, 2.000], mean observation: 101.222 [0.000, 255.000], mean_best_reward: --\n",
      " 61400/100000: episode: 206, duration: 2.679s, episode steps: 284, steps per second: 106, episode reward: 0.000, mean reward: 0.000 [0.000, 0.000], mean action: 1.148 [0.000, 2.000], mean observation: 140.558 [1.000, 255.000], mean_best_reward: --\n"
     ]
    },
    {
     "name": "stderr",
     "output_type": "stream",
     "text": [
      "2021-12-12 13:04:08.542160: W tensorflow/core/data/root_dataset.cc:163] Optimization loop failed: CANCELLED: Operation was cancelled\n"
     ]
    },
    {
     "name": "stdout",
     "output_type": "stream",
     "text": [
      " 62046/100000: episode: 207, duration: 6.842s, episode steps: 646, steps per second: 94, episode reward: 373.000, mean reward: 0.577 [0.000, 1.000], mean action: 0.876 [0.000, 2.000], mean observation: 117.728 [0.000, 255.000], mean_best_reward: --\n"
     ]
    },
    {
     "name": "stderr",
     "output_type": "stream",
     "text": [
      "2021-12-12 13:04:11.444881: W tensorflow/core/data/root_dataset.cc:163] Optimization loop failed: CANCELLED: Operation was cancelled\n",
      "2021-12-12 13:04:12.267056: W tensorflow/core/data/root_dataset.cc:163] Optimization loop failed: CANCELLED: Operation was cancelled\n"
     ]
    },
    {
     "name": "stdout",
     "output_type": "stream",
     "text": [
      " 62330/100000: episode: 208, duration: 2.645s, episode steps: 284, steps per second: 107, episode reward: 0.000, mean reward: 0.000 [0.000, 0.000], mean action: 1.007 [0.000, 2.000], mean observation: 112.480 [0.000, 255.000], mean_best_reward: --\n",
      " 62614/100000: episode: 209, duration: 2.027s, episode steps: 284, steps per second: 140, episode reward: 0.000, mean reward: 0.000 [0.000, 0.000], mean action: 1.116 [0.000, 2.000], mean observation: 114.345 [0.000, 255.000], mean_best_reward: --\n",
      " 62712/100000: episode: 210, duration: 0.991s, episode steps: 98, steps per second: 99, episode reward: 0.000, mean reward: 0.000 [0.000, 0.000], mean action: 1.051 [0.000, 2.000], mean observation: 151.322 [1.000, 255.000], mean_best_reward: --\n"
     ]
    },
    {
     "name": "stderr",
     "output_type": "stream",
     "text": [
      "2021-12-12 13:04:16.448278: W tensorflow/core/data/root_dataset.cc:163] Optimization loop failed: CANCELLED: Operation was cancelled\n"
     ]
    },
    {
     "name": "stdout",
     "output_type": "stream",
     "text": [
      " 62810/100000: episode: 211, duration: 0.930s, episode steps: 98, steps per second: 105, episode reward: 0.000, mean reward: 0.000 [0.000, 0.000], mean action: 1.337 [0.000, 2.000], mean observation: 194.753 [0.000, 255.000], mean_best_reward: --\n",
      " 63094/100000: episode: 212, duration: 2.833s, episode steps: 284, steps per second: 100, episode reward: 0.000, mean reward: 0.000 [0.000, 0.000], mean action: 1.257 [0.000, 2.000], mean observation: 155.393 [1.000, 255.000], mean_best_reward: --\n",
      " 63378/100000: episode: 213, duration: 2.505s, episode steps: 284, steps per second: 113, episode reward: 0.000, mean reward: 0.000 [0.000, 0.000], mean action: 0.965 [0.000, 2.000], mean observation: 108.463 [0.000, 255.000], mean_best_reward: --\n",
      " 63476/100000: episode: 214, duration: 0.608s, episode steps: 98, steps per second: 161, episode reward: 0.000, mean reward: 0.000 [0.000, 0.000], mean action: 1.122 [0.000, 2.000], mean observation: 151.720 [0.000, 255.000], mean_best_reward: --\n",
      " 63574/100000: episode: 215, duration: 0.953s, episode steps: 98, steps per second: 103, episode reward: 0.000, mean reward: 0.000 [0.000, 0.000], mean action: 1.122 [0.000, 2.000], mean observation: 156.016 [1.000, 255.000], mean_best_reward: --\n",
      " 63672/100000: episode: 216, duration: 0.805s, episode steps: 98, steps per second: 122, episode reward: 0.000, mean reward: 0.000 [0.000, 0.000], mean action: 1.000 [0.000, 2.000], mean observation: 169.837 [1.000, 255.000], mean_best_reward: --\n",
      " 63956/100000: episode: 217, duration: 2.022s, episode steps: 284, steps per second: 140, episode reward: 0.000, mean reward: 0.000 [0.000, 0.000], mean action: 0.958 [0.000, 2.000], mean observation: 117.854 [0.000, 255.000], mean_best_reward: --\n",
      " 64800/100000: episode: 218, duration: 5.697s, episode steps: 844, steps per second: 148, episode reward: 8909.000, mean reward: 10.556 [0.000, 13.000], mean action: 1.020 [0.000, 2.000], mean observation: 103.157 [0.000, 255.000], mean_best_reward: --\n",
      "done, took 525.262 seconds\n"
     ]
    },
    {
     "data": {
      "text/plain": [
       "<keras.callbacks.History at 0x7f8b900be3d0>"
      ]
     },
     "execution_count": 10,
     "metadata": {},
     "output_type": "execute_result"
    }
   ],
   "source": [
    "cem.fit(env, nb_steps=100000, visualize=False, verbose=2)"
   ]
  },
  {
   "cell_type": "code",
   "execution_count": 11,
   "metadata": {},
   "outputs": [],
   "source": [
    "# After training is done, we save the best weights.\n",
    "cem.save_weights('cem_{}_params.h5f'.format('PongGame_CEM'), overwrite=True)"
   ]
  },
  {
   "cell_type": "code",
   "execution_count": 12,
   "metadata": {},
   "outputs": [
    {
     "name": "stdout",
     "output_type": "stream",
     "text": [
      "Testing for 10 episodes ...\n",
      "Episode 1: reward: 0.000, steps: 98\n",
      "Episode 2: reward: 0.000, steps: 284\n",
      "Episode 3: reward: 0.000, steps: 98\n",
      "Episode 4: reward: 0.000, steps: 98\n"
     ]
    },
    {
     "name": "stderr",
     "output_type": "stream",
     "text": [
      "2021-12-12 13:04:51.177281: W tensorflow/core/data/root_dataset.cc:163] Optimization loop failed: CANCELLED: Operation was cancelled\n"
     ]
    },
    {
     "name": "stdout",
     "output_type": "stream",
     "text": [
      "Episode 5: reward: 0.000, steps: 98\n"
     ]
    },
    {
     "name": "stderr",
     "output_type": "stream",
     "text": [
      "2021-12-12 13:04:52.497594: W tensorflow/core/data/root_dataset.cc:163] Optimization loop failed: CANCELLED: Operation was cancelled\n"
     ]
    },
    {
     "name": "stdout",
     "output_type": "stream",
     "text": [
      "Episode 6: reward: 0.000, steps: 98\n"
     ]
    },
    {
     "name": "stderr",
     "output_type": "stream",
     "text": [
      "2021-12-12 13:04:54.227084: W tensorflow/core/data/root_dataset.cc:163] Optimization loop failed: CANCELLED: Operation was cancelled\n"
     ]
    },
    {
     "name": "stdout",
     "output_type": "stream",
     "text": [
      "Episode 7: reward: 0.000, steps: 284\n",
      "Episode 8: reward: 0.000, steps: 284\n",
      "Episode 9: reward: 0.000, steps: 98\n"
     ]
    },
    {
     "name": "stderr",
     "output_type": "stream",
     "text": [
      "2021-12-12 13:05:04.344646: W tensorflow/core/data/root_dataset.cc:163] Optimization loop failed: CANCELLED: Operation was cancelled\n",
      "2021-12-12 13:05:07.076124: W tensorflow/core/data/root_dataset.cc:163] Optimization loop failed: CANCELLED: Operation was cancelled\n"
     ]
    },
    {
     "name": "stdout",
     "output_type": "stream",
     "text": [
      "Episode 10: reward: 373.000, steps: 460\n"
     ]
    },
    {
     "data": {
      "text/plain": [
       "<keras.callbacks.History at 0x7f8b69f64cd0>"
      ]
     },
     "execution_count": 12,
     "metadata": {},
     "output_type": "execute_result"
    }
   ],
   "source": [
    "# Finally, evaluate our algorithm for 5 episodes.\n",
    "cem.test(env, nb_episodes=10, visualize=True)"
   ]
  },
  {
   "cell_type": "code",
   "execution_count": 13,
   "metadata": {},
   "outputs": [],
   "source": [
    "env.close()"
   ]
  },
  {
   "cell_type": "code",
   "execution_count": null,
   "metadata": {},
   "outputs": [],
   "source": []
  }
 ],
 "metadata": {
  "interpreter": {
   "hash": "df0893f56f349688326838aaeea0de204df53a132722cbd565e54b24a8fec5f6"
  },
  "kernelspec": {
   "display_name": "Python 3.8.10 64-bit",
   "language": "python",
   "name": "python3"
  },
  "language_info": {
   "codemirror_mode": {
    "name": "ipython",
    "version": 3
   },
   "file_extension": ".py",
   "mimetype": "text/x-python",
   "name": "python",
   "nbconvert_exporter": "python",
   "pygments_lexer": "ipython3",
   "version": "3.8.10"
  },
  "orig_nbformat": 4
 },
 "nbformat": 4,
 "nbformat_minor": 2
}
